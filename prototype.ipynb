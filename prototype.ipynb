{
 "cells": [
  {
   "cell_type": "code",
   "execution_count": 1,
   "id": "679d71d3-0e0b-425a-b665-e58474e5f76b",
   "metadata": {},
   "outputs": [],
   "source": [
    "import time\n",
    "import os\n",
    "import tqdm\n",
    "import pickle as pkl\n",
    "import string\n",
    "import random\n",
    "import argparse\n",
    "\n",
    "import pyspiel\n",
    "import numpy as np\n",
    "from open_spiel.python import policy\n",
    "from open_spiel.python import rl_environment\n",
    "from open_spiel.python.algorithms import exploitability\n",
    "from open_spiel.python.algorithms.policy_aggregator import PolicyAggregator\n",
    "from open_spiel.python.algorithms.psro_v2 import ( best_response_oracle,\n",
    "    strategy_selectors,\n",
    ")\n",
    "from open_spiel.python.algorithms.psro_v2.psro_v2 import PSROSolver\n",
    "from open_spiel.python.algorithms.psro_v2.optimization_oracle import AbstractOracle\n",
    "\n",
    "from samplers import *\n",
    "\n",
    "\n",
    "def meta_game_to_list(meta_game):\n",
    "    for i in range(len(meta_game)):\n",
    "        meta_game[i] = meta_game[i].tolist()\n",
    "    return meta_game\n",
    "\n",
    "\n",
    "def debug_iteration(psro, sampler, N, history, verbose=False):\n",
    "    psro._iterations += 1\n",
    "\n",
    "    info = {\n",
    "            \"type\": \"step\", \n",
    "           }\n",
    "    \n",
    "    # Run the Oracle and get the new agent\n",
    "    first_start = time.time()\n",
    "    psro.update_agents()\n",
    "    end = time.time()\n",
    "\n",
    "    info[\"oracle_elapse\"] = end - first_start\n",
    "\n",
    "    # Update the payoff matrix\n",
    "    start = time.time()\n",
    "    compute_meta_game(psro, sampler, N, history)\n",
    "    end = time.time()\n",
    "\n",
    "    info[\"sims_elapse\"] = end - start\n",
    "\n",
    "    # Run the meta-solver\n",
    "    start = time.time()\n",
    "    psro.update_meta_strategies()\n",
    "    last_end = time.time()\n",
    "\n",
    "    info[\"meta_solve_elapse\"] = last_end - start\n",
    "\n",
    "    info[\"total_elapse\"] = (\n",
    "        info[\"oracle_elapse\"] + info[\"sims_elapse\"] + info[\"meta_solve_elapse\"]\n",
    "    )\n",
    "    \n",
    "    if verbose:\n",
    "        info[\"meta_game\"] = pkl.dumps(psro.get_meta_game())\n",
    "        info[\"meta_strategies\"] = pkl.dumps(psro.get_meta_strategies())\n",
    "        info[\"policies\"] = pkl.dumps(psro.get_policies())\n",
    "    return info\n",
    "\n",
    "\n",
    "def get_aggregate_policy(game, PSRO):\n",
    "    meta_probabilities = PSRO.get_meta_strategies()\n",
    "    policies = PSRO.get_policies()\n",
    "\n",
    "    return PolicyAggregator(game).aggregate(\n",
    "        range(len(policies)), policies, meta_probabilities\n",
    "    )\n",
    "\n",
    "\n",
    "def get_exploitability(env, n_players, PSRO):\n",
    "    policies = get_aggregate_policy(env.game, PSRO)\n",
    "    return exploitability.nash_conv(env.game, policies)\n",
    "\n",
    "def generate_data(prd, N, data_dir, sampler, steps=100):\n",
    "    n_players = 2\n",
    "\n",
    "    game = pyspiel.load_game_as_turn_based(\"kuhn_poker\", {\"players\": n_players})\n",
    "\n",
    "    env = rl_environment.Environment(game)\n",
    "\n",
    "    random_policy = policy.TabularPolicy(env.game)\n",
    "\n",
    "    oracle = best_response_oracle.BestResponseOracle(\n",
    "        game=env.game, policy=random_policy\n",
    "    )\n",
    "\n",
    "    agents = [random_policy.__copy__() for _ in range(n_players)]\n",
    "        \n",
    "    random_extension = ''.join(random.choice(string.ascii_lowercase) for i in range(8))\n",
    "    print(random_extension)\n",
    "    log_file = open(f\"{data_dir}/{sampler.__name__}_{N}_{prd}_{random_extension}.dat\", \"w\")\n",
    "\n",
    "    PSRO = PSROSolver(\n",
    "        env.game,\n",
    "        oracle,\n",
    "        meta_strategy_method=\"nash\",\n",
    "        initial_policies=agents,\n",
    "        training_strategy_selector=strategy_selectors.probabilistic,\n",
    "        sims_per_entry=N,\n",
    "        sample_from_marginals=True,\n",
    "        # Oracle kwargs\n",
    "        symmetric_game=False,\n",
    "        # prd_iterations=prd,\n",
    "        # prd_gamma=1e-10,\n",
    "    )\n",
    "\n",
    "    exploit = get_exploitability(env, n_players, PSRO)\n",
    "\n",
    "    info = {\n",
    "        \"type\": \"init\",\n",
    "        \"meta_strategy\": \"prd\",\n",
    "        \"meta_game\": pkl.dumps(PSRO.get_meta_game()),\n",
    "        \"meta_strategies\": pkl.dumps(PSRO.get_meta_strategies()),\n",
    "        \"policies\": pkl.dumps(PSRO.get_policies()),\n",
    "        \"starting_exploit\": exploit,\n",
    "    }\n",
    "    log_file.write(str(info) + \"\\n\")\n",
    "    history = initialize_history(PSRO, N)\n",
    "\n",
    "    for it in tqdm.tqdm(range(steps)):\n",
    "        info = debug_iteration(PSRO, sampler, N, history)\n",
    "\n",
    "        info[\"it\"] = it\n",
    "\n",
    "        exploit = get_exploitability(env, n_players, PSRO)\n",
    "        info[\"exploit\"] = exploit\n",
    "\n",
    "        log_file.write(str(info) + \"\\n\")\n",
    "        log_file.flush()\n",
    "    \n",
    "    \n",
    "\n",
    "    log_file.close()\n",
    "\n",
    "    return compute_matrix(it + 2, history), get_counts(it+2, history)\n",
    "\n",
    "\n",
    "def main(prd, N, data_dir, sampler):\n",
    "    generate_data(prd, N, data_dir, sampler, steps=10)"
   ]
  },
  {
   "cell_type": "code",
   "execution_count": 2,
   "id": "e99a9890",
   "metadata": {},
   "outputs": [
    {
     "name": "stdout",
     "output_type": "stream",
     "text": [
      "eszdqjvc\n",
      "Using 100 sims per entry.\n",
      "Rectifier : \n",
      "Perturbating oracle outputs : False\n",
      "Sampling from marginals : True\n",
      "Using <function nash_strategy at 0x7f771b70c4c0> as strategy method.\n",
      "Using <function filter_function_factory.<locals>.filter_policies at 0x7f779d47c700> as training strategy selector.\n"
     ]
    },
    {
     "name": "stderr",
     "output_type": "stream",
     "text": [
      "  0%|          | 0/15 [00:00<?, ?it/s]/mnt/c/Users/Geoff/Documents/Hannibal-final/samplers.py:20: RuntimeWarning: invalid value encountered in true_divide\n",
      "  return meta / counts\n",
      "/home/geoff/.local/lib/python3.9/site-packages/numpy/core/fromnumeric.py:86: VisibleDeprecationWarning: Creating an ndarray from ragged nested sequences (which is a list-or-tuple of lists-or-tuples-or ndarrays with different lengths or shapes) is deprecated. If you meant to do this, you must specify 'dtype=object' when creating the ndarray.\n",
      "  return ufunc.reduce(obj, axis, dtype, out, **passkwargs)\n",
      " 13%|█▎        | 2/15 [00:00<00:00, 16.84it/s]"
     ]
    },
    {
     "name": "stdout",
     "output_type": "stream",
     "text": [
      "budget=400\n",
      "budget=900\n",
      "budget=1600\n"
     ]
    },
    {
     "name": "stderr",
     "output_type": "stream",
     "text": [
      " 27%|██▋       | 4/15 [00:00<00:00, 11.73it/s]"
     ]
    },
    {
     "name": "stdout",
     "output_type": "stream",
     "text": [
      "budget=2500\n",
      "budget=3600\n"
     ]
    },
    {
     "name": "stderr",
     "output_type": "stream",
     "text": [
      " 40%|████      | 6/15 [00:00<00:01,  8.81it/s]"
     ]
    },
    {
     "name": "stdout",
     "output_type": "stream",
     "text": [
      "budget=4900\n",
      "budget=6400\n"
     ]
    },
    {
     "name": "stderr",
     "output_type": "stream",
     "text": [
      " 53%|█████▎    | 8/15 [00:01<00:01,  6.68it/s]"
     ]
    },
    {
     "name": "stdout",
     "output_type": "stream",
     "text": [
      "budget=8100\n"
     ]
    },
    {
     "name": "stderr",
     "output_type": "stream",
     "text": [
      " 60%|██████    | 9/15 [00:01<00:01,  5.79it/s]"
     ]
    },
    {
     "name": "stdout",
     "output_type": "stream",
     "text": [
      "budget=10000\n",
      "budget=12100\n"
     ]
    },
    {
     "name": "stderr",
     "output_type": "stream",
     "text": [
      " 67%|██████▋   | 10/15 [00:01<00:01,  4.86it/s]"
     ]
    },
    {
     "name": "stdout",
     "output_type": "stream",
     "text": [
      "budget=14400\n"
     ]
    },
    {
     "name": "stderr",
     "output_type": "stream",
     "text": [
      " 73%|███████▎  | 11/15 [00:01<00:00,  4.44it/s]"
     ]
    },
    {
     "name": "stdout",
     "output_type": "stream",
     "text": [
      "budget=16900\n"
     ]
    },
    {
     "name": "stderr",
     "output_type": "stream",
     "text": [
      " 80%|████████  | 12/15 [00:02<00:00,  4.00it/s]"
     ]
    },
    {
     "name": "stdout",
     "output_type": "stream",
     "text": [
      "budget=19600\n"
     ]
    },
    {
     "name": "stderr",
     "output_type": "stream",
     "text": [
      " 87%|████████▋ | 13/15 [00:02<00:00,  3.61it/s]"
     ]
    },
    {
     "name": "stdout",
     "output_type": "stream",
     "text": [
      "budget=22500\n"
     ]
    },
    {
     "name": "stderr",
     "output_type": "stream",
     "text": [
      " 93%|█████████▎| 14/15 [00:02<00:00,  3.32it/s]"
     ]
    },
    {
     "name": "stdout",
     "output_type": "stream",
     "text": [
      "budget=25600\n"
     ]
    },
    {
     "name": "stderr",
     "output_type": "stream",
     "text": [
      "100%|██████████| 15/15 [00:03<00:00,  4.73it/s]\n"
     ]
    },
    {
     "name": "stdout",
     "output_type": "stream",
     "text": [
      "xdrohzvb\n",
      "Using 50 sims per entry.\n",
      "Rectifier : \n",
      "Perturbating oracle outputs : False\n",
      "Sampling from marginals : True\n",
      "Using <function nash_strategy at 0x7f771b70c4c0> as strategy method.\n",
      "Using <function filter_function_factory.<locals>.filter_policies at 0x7f779d47c700> as training strategy selector.\n"
     ]
    },
    {
     "name": "stderr",
     "output_type": "stream",
     "text": [
      " 20%|██        | 3/15 [00:00<00:00, 29.76it/s]"
     ]
    },
    {
     "name": "stdout",
     "output_type": "stream",
     "text": [
      "budget=200\n",
      "budget=450\n",
      "budget=800\n",
      "budget=1250\n",
      "budget=1800\n"
     ]
    },
    {
     "name": "stderr",
     "output_type": "stream",
     "text": [
      " 40%|████      | 6/15 [00:00<00:00, 18.14it/s]"
     ]
    },
    {
     "name": "stdout",
     "output_type": "stream",
     "text": [
      "budget=2450\n",
      "budget=3200\n",
      "budget=4050\n"
     ]
    },
    {
     "name": "stderr",
     "output_type": "stream",
     "text": [
      " 60%|██████    | 9/15 [00:00<00:00, 11.87it/s]"
     ]
    },
    {
     "name": "stdout",
     "output_type": "stream",
     "text": [
      "budget=5000\n",
      "budget=6050\n"
     ]
    },
    {
     "name": "stderr",
     "output_type": "stream",
     "text": [
      " 73%|███████▎  | 11/15 [00:00<00:00,  9.91it/s]"
     ]
    },
    {
     "name": "stdout",
     "output_type": "stream",
     "text": [
      "budget=7200\n",
      "budget=8450\n"
     ]
    },
    {
     "name": "stderr",
     "output_type": "stream",
     "text": [
      " 87%|████████▋ | 13/15 [00:01<00:00,  8.17it/s]"
     ]
    },
    {
     "name": "stdout",
     "output_type": "stream",
     "text": [
      "budget=9800\n",
      "budget=11250\n"
     ]
    },
    {
     "name": "stderr",
     "output_type": "stream",
     "text": [
      "100%|██████████| 15/15 [00:01<00:00,  8.66it/s]"
     ]
    },
    {
     "name": "stdout",
     "output_type": "stream",
     "text": [
      "budget=12800\n"
     ]
    },
    {
     "name": "stderr",
     "output_type": "stream",
     "text": [
      "\n"
     ]
    },
    {
     "name": "stdout",
     "output_type": "stream",
     "text": [
      "piltdxap\n",
      "Using 20 sims per entry.\n",
      "Rectifier : \n",
      "Perturbating oracle outputs : False\n",
      "Sampling from marginals : True\n",
      "Using <function nash_strategy at 0x7f771b70c4c0> as strategy method.\n",
      "Using <function filter_function_factory.<locals>.filter_policies at 0x7f779d47c700> as training strategy selector.\n"
     ]
    },
    {
     "name": "stderr",
     "output_type": "stream",
     "text": [
      " 27%|██▋       | 4/15 [00:00<00:00, 33.68it/s]"
     ]
    },
    {
     "name": "stdout",
     "output_type": "stream",
     "text": [
      "budget=80\n",
      "budget=180\n",
      "budget=320\n",
      "budget=500\n",
      "budget=720\n",
      "budget=980\n",
      "budget=1280\n",
      "budget=1620\n"
     ]
    },
    {
     "name": "stderr",
     "output_type": "stream",
     "text": [
      " 73%|███████▎  | 11/15 [00:00<00:00, 17.54it/s]"
     ]
    },
    {
     "name": "stdout",
     "output_type": "stream",
     "text": [
      "budget=2000\n",
      "budget=2420\n",
      "budget=2880\n",
      "budget=3380\n"
     ]
    },
    {
     "name": "stderr",
     "output_type": "stream",
     "text": [
      " 87%|████████▋ | 13/15 [00:00<00:00, 16.50it/s]"
     ]
    },
    {
     "name": "stdout",
     "output_type": "stream",
     "text": [
      "budget=3920\n",
      "budget=4500\n",
      "budget=5120\n"
     ]
    },
    {
     "name": "stderr",
     "output_type": "stream",
     "text": [
      "100%|██████████| 15/15 [00:00<00:00, 16.91it/s]\n"
     ]
    },
    {
     "name": "stdout",
     "output_type": "stream",
     "text": [
      "zdvegfsa\n",
      "Using 10 sims per entry.\n",
      "Rectifier : \n",
      "Perturbating oracle outputs : False\n",
      "Sampling from marginals : True\n",
      "Using <function nash_strategy at 0x7f771b70c4c0> as strategy method.\n",
      "Using <function filter_function_factory.<locals>.filter_policies at 0x7f779d47c700> as training strategy selector.\n"
     ]
    },
    {
     "name": "stderr",
     "output_type": "stream",
     "text": [
      " 33%|███▎      | 5/15 [00:00<00:00, 41.83it/s]"
     ]
    },
    {
     "name": "stdout",
     "output_type": "stream",
     "text": [
      "budget=40\n",
      "budget=90\n",
      "budget=160\n",
      "budget=250\n",
      "budget=360\n",
      "budget=490\n",
      "budget=640\n",
      "budget=810\n"
     ]
    },
    {
     "name": "stderr",
     "output_type": "stream",
     "text": [
      " 67%|██████▋   | 10/15 [00:00<00:00, 31.22it/s]"
     ]
    },
    {
     "name": "stdout",
     "output_type": "stream",
     "text": [
      "budget=1000\n",
      "budget=1210\n",
      "budget=1440\n",
      "budget=1690\n",
      "budget=1960\n"
     ]
    },
    {
     "name": "stderr",
     "output_type": "stream",
     "text": [
      "100%|██████████| 15/15 [00:00<00:00, 27.44it/s]\n"
     ]
    },
    {
     "name": "stdout",
     "output_type": "stream",
     "text": [
      "budget=2250\n",
      "budget=2560\n",
      "waqxsove\n",
      "Using 5 sims per entry.\n",
      "Rectifier : \n",
      "Perturbating oracle outputs : False\n",
      "Sampling from marginals : True\n",
      "Using <function nash_strategy at 0x7f771b70c4c0> as strategy method.\n",
      "Using <function filter_function_factory.<locals>.filter_policies at 0x7f779d47c700> as training strategy selector.\n"
     ]
    },
    {
     "name": "stderr",
     "output_type": "stream",
     "text": [
      "  0%|          | 0/15 [00:00<?, ?it/s]"
     ]
    },
    {
     "name": "stdout",
     "output_type": "stream",
     "text": [
      "budget=20\n",
      "budget=45\n",
      "budget=80\n",
      "budget=125\n",
      "budget=180\n",
      "budget=245\n"
     ]
    },
    {
     "name": "stderr",
     "output_type": "stream",
     "text": [
      " 47%|████▋     | 7/15 [00:00<00:00, 54.19it/s]"
     ]
    },
    {
     "name": "stdout",
     "output_type": "stream",
     "text": [
      "budget=320\n",
      "budget=405\n",
      "budget=500\n",
      "budget=605\n",
      "budget=720\n",
      "budget=845\n",
      "budget=980\n"
     ]
    },
    {
     "name": "stderr",
     "output_type": "stream",
     "text": [
      "100%|██████████| 15/15 [00:00<00:00, 37.73it/s]\n"
     ]
    },
    {
     "name": "stdout",
     "output_type": "stream",
     "text": [
      "budget=1125\n",
      "budget=1280\n",
      "ejeeepqs\n",
      "Using 100 sims per entry.\n",
      "Rectifier : \n",
      "Perturbating oracle outputs : False\n",
      "Sampling from marginals : True\n",
      "Using <function nash_strategy at 0x7f771b70c4c0> as strategy method.\n",
      "Using <function filter_function_factory.<locals>.filter_policies at 0x7f779d47c700> as training strategy selector.\n"
     ]
    },
    {
     "name": "stderr",
     "output_type": "stream",
     "text": [
      "  0%|          | 0/15 [00:00<?, ?it/s]"
     ]
    },
    {
     "name": "stdout",
     "output_type": "stream",
     "text": [
      "budget=400\n",
      "budget=900\n"
     ]
    },
    {
     "name": "stderr",
     "output_type": "stream",
     "text": [
      " 13%|█▎        | 2/15 [00:00<00:01,  6.60it/s]"
     ]
    },
    {
     "name": "stdout",
     "output_type": "stream",
     "text": [
      "budget=1600\n"
     ]
    },
    {
     "name": "stderr",
     "output_type": "stream",
     "text": [
      " 20%|██        | 3/15 [00:00<00:02,  4.40it/s]"
     ]
    },
    {
     "name": "stdout",
     "output_type": "stream",
     "text": [
      "budget=2500\n"
     ]
    },
    {
     "name": "stderr",
     "output_type": "stream",
     "text": [
      " 27%|██▋       | 4/15 [00:01<00:03,  3.22it/s]"
     ]
    },
    {
     "name": "stdout",
     "output_type": "stream",
     "text": [
      "budget=3600\n"
     ]
    },
    {
     "name": "stderr",
     "output_type": "stream",
     "text": [
      " 33%|███▎      | 5/15 [00:01<00:04,  2.24it/s]"
     ]
    },
    {
     "name": "stdout",
     "output_type": "stream",
     "text": [
      "budget=4900\n"
     ]
    },
    {
     "name": "stderr",
     "output_type": "stream",
     "text": [
      " 40%|████      | 6/15 [00:02<00:05,  1.67it/s]"
     ]
    },
    {
     "name": "stdout",
     "output_type": "stream",
     "text": [
      "budget=6400\n"
     ]
    },
    {
     "name": "stderr",
     "output_type": "stream",
     "text": [
      " 47%|████▋     | 7/15 [00:03<00:06,  1.28it/s]"
     ]
    },
    {
     "name": "stdout",
     "output_type": "stream",
     "text": [
      "budget=8100\n"
     ]
    },
    {
     "name": "stderr",
     "output_type": "stream",
     "text": [
      " 53%|█████▎    | 8/15 [00:05<00:07,  1.02s/it]"
     ]
    },
    {
     "name": "stdout",
     "output_type": "stream",
     "text": [
      "budget=10000\n"
     ]
    },
    {
     "name": "stderr",
     "output_type": "stream",
     "text": [
      " 60%|██████    | 9/15 [00:07<00:07,  1.30s/it]"
     ]
    },
    {
     "name": "stdout",
     "output_type": "stream",
     "text": [
      "budget=12100\n"
     ]
    },
    {
     "name": "stderr",
     "output_type": "stream",
     "text": [
      " 67%|██████▋   | 10/15 [00:09<00:07,  1.59s/it]"
     ]
    },
    {
     "name": "stdout",
     "output_type": "stream",
     "text": [
      "budget=14400\n"
     ]
    },
    {
     "name": "stderr",
     "output_type": "stream",
     "text": [
      " 73%|███████▎  | 11/15 [00:12<00:08,  2.08s/it]"
     ]
    },
    {
     "name": "stdout",
     "output_type": "stream",
     "text": [
      "budget=16900\n"
     ]
    },
    {
     "name": "stderr",
     "output_type": "stream",
     "text": [
      " 80%|████████  | 12/15 [00:15<00:07,  2.37s/it]"
     ]
    },
    {
     "name": "stdout",
     "output_type": "stream",
     "text": [
      "budget=19600\n"
     ]
    },
    {
     "name": "stderr",
     "output_type": "stream",
     "text": [
      " 87%|████████▋ | 13/15 [00:19<00:05,  2.70s/it]"
     ]
    },
    {
     "name": "stdout",
     "output_type": "stream",
     "text": [
      "budget=22500\n"
     ]
    },
    {
     "name": "stderr",
     "output_type": "stream",
     "text": [
      " 93%|█████████▎| 14/15 [00:23<00:03,  3.06s/it]"
     ]
    },
    {
     "name": "stdout",
     "output_type": "stream",
     "text": [
      "budget=25600\n"
     ]
    },
    {
     "name": "stderr",
     "output_type": "stream",
     "text": [
      "100%|██████████| 15/15 [00:27<00:00,  1.84s/it]\n"
     ]
    },
    {
     "name": "stdout",
     "output_type": "stream",
     "text": [
      "hnxbguxz\n",
      "Using 50 sims per entry.\n",
      "Rectifier : \n",
      "Perturbating oracle outputs : False\n",
      "Sampling from marginals : True\n",
      "Using <function nash_strategy at 0x7f771b70c4c0> as strategy method.\n",
      "Using <function filter_function_factory.<locals>.filter_policies at 0x7f779d47c700> as training strategy selector.\n"
     ]
    },
    {
     "name": "stderr",
     "output_type": "stream",
     "text": [
      " 13%|█▎        | 2/15 [00:00<00:00, 15.93it/s]"
     ]
    },
    {
     "name": "stdout",
     "output_type": "stream",
     "text": [
      "budget=200\n",
      "budget=450\n",
      "budget=800\n",
      "budget=1250\n"
     ]
    },
    {
     "name": "stderr",
     "output_type": "stream",
     "text": [
      " 27%|██▋       | 4/15 [00:00<00:01,  6.78it/s]"
     ]
    },
    {
     "name": "stdout",
     "output_type": "stream",
     "text": [
      "budget=1800\n"
     ]
    },
    {
     "name": "stderr",
     "output_type": "stream",
     "text": [
      " 33%|███▎      | 5/15 [00:00<00:02,  4.93it/s]"
     ]
    },
    {
     "name": "stdout",
     "output_type": "stream",
     "text": [
      "budget=2450\n"
     ]
    },
    {
     "name": "stderr",
     "output_type": "stream",
     "text": [
      " 40%|████      | 6/15 [00:01<00:02,  3.67it/s]"
     ]
    },
    {
     "name": "stdout",
     "output_type": "stream",
     "text": [
      "budget=3200\n"
     ]
    },
    {
     "name": "stderr",
     "output_type": "stream",
     "text": [
      " 47%|████▋     | 7/15 [00:01<00:02,  2.76it/s]"
     ]
    },
    {
     "name": "stdout",
     "output_type": "stream",
     "text": [
      "budget=4050\n"
     ]
    },
    {
     "name": "stderr",
     "output_type": "stream",
     "text": [
      " 53%|█████▎    | 8/15 [00:02<00:03,  1.97it/s]"
     ]
    },
    {
     "name": "stdout",
     "output_type": "stream",
     "text": [
      "budget=5000\n"
     ]
    },
    {
     "name": "stderr",
     "output_type": "stream",
     "text": [
      " 60%|██████    | 9/15 [00:03<00:03,  1.67it/s]"
     ]
    },
    {
     "name": "stdout",
     "output_type": "stream",
     "text": [
      "budget=6050\n"
     ]
    },
    {
     "name": "stderr",
     "output_type": "stream",
     "text": [
      " 67%|██████▋   | 10/15 [00:04<00:03,  1.34it/s]"
     ]
    },
    {
     "name": "stdout",
     "output_type": "stream",
     "text": [
      "budget=7200\n"
     ]
    },
    {
     "name": "stderr",
     "output_type": "stream",
     "text": [
      " 73%|███████▎  | 11/15 [00:05<00:03,  1.11it/s]"
     ]
    },
    {
     "name": "stdout",
     "output_type": "stream",
     "text": [
      "budget=8450\n"
     ]
    },
    {
     "name": "stderr",
     "output_type": "stream",
     "text": [
      " 80%|████████  | 12/15 [00:07<00:03,  1.10s/it]"
     ]
    },
    {
     "name": "stdout",
     "output_type": "stream",
     "text": [
      "budget=9800\n"
     ]
    },
    {
     "name": "stderr",
     "output_type": "stream",
     "text": [
      " 87%|████████▋ | 13/15 [00:09<00:02,  1.25s/it]"
     ]
    },
    {
     "name": "stdout",
     "output_type": "stream",
     "text": [
      "budget=11250\n"
     ]
    },
    {
     "name": "stderr",
     "output_type": "stream",
     "text": [
      " 93%|█████████▎| 14/15 [00:10<00:01,  1.45s/it]"
     ]
    },
    {
     "name": "stdout",
     "output_type": "stream",
     "text": [
      "budget=12800\n"
     ]
    },
    {
     "name": "stderr",
     "output_type": "stream",
     "text": [
      "100%|██████████| 15/15 [00:13<00:00,  1.15it/s]\n"
     ]
    },
    {
     "name": "stdout",
     "output_type": "stream",
     "text": [
      "wlrngqcq\n",
      "Using 20 sims per entry.\n",
      "Rectifier : \n",
      "Perturbating oracle outputs : False\n",
      "Sampling from marginals : True\n",
      "Using <function nash_strategy at 0x7f771b70c4c0> as strategy method.\n",
      "Using <function filter_function_factory.<locals>.filter_policies at 0x7f779d47c700> as training strategy selector.\n"
     ]
    },
    {
     "name": "stderr",
     "output_type": "stream",
     "text": [
      " 20%|██        | 3/15 [00:00<00:00, 23.97it/s]"
     ]
    },
    {
     "name": "stdout",
     "output_type": "stream",
     "text": [
      "budget=80\n",
      "budget=180\n",
      "budget=320\n",
      "budget=500\n",
      "budget=720\n",
      "budget=980\n"
     ]
    },
    {
     "name": "stderr",
     "output_type": "stream",
     "text": [
      " 40%|████      | 6/15 [00:00<00:00,  9.35it/s]"
     ]
    },
    {
     "name": "stdout",
     "output_type": "stream",
     "text": [
      "budget=1280\n",
      "budget=1620\n"
     ]
    },
    {
     "name": "stderr",
     "output_type": "stream",
     "text": [
      " 53%|█████▎    | 8/15 [00:01<00:01,  6.56it/s]"
     ]
    },
    {
     "name": "stdout",
     "output_type": "stream",
     "text": [
      "budget=2000\n"
     ]
    },
    {
     "name": "stderr",
     "output_type": "stream",
     "text": [
      " 60%|██████    | 9/15 [00:01<00:01,  5.25it/s]"
     ]
    },
    {
     "name": "stdout",
     "output_type": "stream",
     "text": [
      "budget=2420\n"
     ]
    },
    {
     "name": "stderr",
     "output_type": "stream",
     "text": [
      " 67%|██████▋   | 10/15 [00:01<00:01,  4.15it/s]"
     ]
    },
    {
     "name": "stdout",
     "output_type": "stream",
     "text": [
      "budget=2880\n"
     ]
    },
    {
     "name": "stderr",
     "output_type": "stream",
     "text": [
      " 73%|███████▎  | 11/15 [00:02<00:01,  3.32it/s]"
     ]
    },
    {
     "name": "stdout",
     "output_type": "stream",
     "text": [
      "budget=3380\n"
     ]
    },
    {
     "name": "stderr",
     "output_type": "stream",
     "text": [
      " 80%|████████  | 12/15 [00:02<00:01,  2.70it/s]"
     ]
    },
    {
     "name": "stdout",
     "output_type": "stream",
     "text": [
      "budget=3920\n"
     ]
    },
    {
     "name": "stderr",
     "output_type": "stream",
     "text": [
      " 87%|████████▋ | 13/15 [00:03<00:00,  2.32it/s]"
     ]
    },
    {
     "name": "stdout",
     "output_type": "stream",
     "text": [
      "budget=4500\n"
     ]
    },
    {
     "name": "stderr",
     "output_type": "stream",
     "text": [
      " 93%|█████████▎| 14/15 [00:04<00:00,  1.96it/s]"
     ]
    },
    {
     "name": "stdout",
     "output_type": "stream",
     "text": [
      "budget=5120\n"
     ]
    },
    {
     "name": "stderr",
     "output_type": "stream",
     "text": [
      "100%|██████████| 15/15 [00:04<00:00,  3.04it/s]\n"
     ]
    },
    {
     "name": "stdout",
     "output_type": "stream",
     "text": [
      "ikvlzqhe\n",
      "Using 10 sims per entry.\n",
      "Rectifier : \n",
      "Perturbating oracle outputs : False\n",
      "Sampling from marginals : True\n",
      "Using <function nash_strategy at 0x7f771b70c4c0> as strategy method.\n",
      "Using <function filter_function_factory.<locals>.filter_policies at 0x7f779d47c700> as training strategy selector.\n"
     ]
    },
    {
     "name": "stderr",
     "output_type": "stream",
     "text": [
      " 27%|██▋       | 4/15 [00:00<00:00, 26.21it/s]"
     ]
    },
    {
     "name": "stdout",
     "output_type": "stream",
     "text": [
      "budget=40\n",
      "budget=90\n",
      "budget=160\n",
      "budget=250\n",
      "budget=360\n",
      "budget=490\n",
      "budget=640\n"
     ]
    },
    {
     "name": "stderr",
     "output_type": "stream",
     "text": [
      " 47%|████▋     | 7/15 [00:00<00:00, 13.21it/s]"
     ]
    },
    {
     "name": "stdout",
     "output_type": "stream",
     "text": [
      "budget=810\n",
      "budget=1000\n"
     ]
    },
    {
     "name": "stderr",
     "output_type": "stream",
     "text": [
      " 60%|██████    | 9/15 [00:00<00:00,  9.38it/s]"
     ]
    },
    {
     "name": "stdout",
     "output_type": "stream",
     "text": [
      "budget=1210\n",
      "budget=1440\n"
     ]
    },
    {
     "name": "stderr",
     "output_type": "stream",
     "text": [
      " 73%|███████▎  | 11/15 [00:01<00:00,  7.17it/s]"
     ]
    },
    {
     "name": "stdout",
     "output_type": "stream",
     "text": [
      "budget=1690\n"
     ]
    },
    {
     "name": "stderr",
     "output_type": "stream",
     "text": [
      " 80%|████████  | 12/15 [00:01<00:00,  6.37it/s]"
     ]
    },
    {
     "name": "stdout",
     "output_type": "stream",
     "text": [
      "budget=1960\n"
     ]
    },
    {
     "name": "stderr",
     "output_type": "stream",
     "text": [
      " 87%|████████▋ | 13/15 [00:01<00:00,  5.88it/s]"
     ]
    },
    {
     "name": "stdout",
     "output_type": "stream",
     "text": [
      "budget=2250\n"
     ]
    },
    {
     "name": "stderr",
     "output_type": "stream",
     "text": [
      " 93%|█████████▎| 14/15 [00:01<00:00,  5.11it/s]"
     ]
    },
    {
     "name": "stdout",
     "output_type": "stream",
     "text": [
      "budget=2560\n"
     ]
    },
    {
     "name": "stderr",
     "output_type": "stream",
     "text": [
      "100%|██████████| 15/15 [00:02<00:00,  6.56it/s]\n"
     ]
    },
    {
     "name": "stdout",
     "output_type": "stream",
     "text": [
      "gnsgzgsm\n",
      "Using 5 sims per entry.\n",
      "Rectifier : \n",
      "Perturbating oracle outputs : False\n",
      "Sampling from marginals : True\n",
      "Using <function nash_strategy at 0x7f771b70c4c0> as strategy method.\n",
      "Using <function filter_function_factory.<locals>.filter_policies at 0x7f779d47c700> as training strategy selector.\n"
     ]
    },
    {
     "name": "stderr",
     "output_type": "stream",
     "text": [
      " 40%|████      | 6/15 [00:00<00:00, 47.15it/s]"
     ]
    },
    {
     "name": "stdout",
     "output_type": "stream",
     "text": [
      "budget=20\n",
      "budget=45\n",
      "budget=80\n",
      "budget=125\n",
      "budget=180\n",
      "budget=245\n",
      "budget=320\n",
      "budget=405\n"
     ]
    },
    {
     "name": "stderr",
     "output_type": "stream",
     "text": [
      " 73%|███████▎  | 11/15 [00:00<00:00, 22.85it/s]"
     ]
    },
    {
     "name": "stdout",
     "output_type": "stream",
     "text": [
      "budget=500\n",
      "budget=605\n",
      "budget=720\n",
      "budget=845\n",
      "budget=980\n",
      "budget=1125\n"
     ]
    },
    {
     "name": "stderr",
     "output_type": "stream",
     "text": [
      "100%|██████████| 15/15 [00:00<00:00, 17.38it/s]\n"
     ]
    },
    {
     "name": "stdout",
     "output_type": "stream",
     "text": [
      "budget=1280\n",
      "wmxrjiyi\n",
      "Using 100 sims per entry.\n",
      "Rectifier : \n",
      "Perturbating oracle outputs : False\n",
      "Sampling from marginals : True\n",
      "Using <function nash_strategy at 0x7f771b70c4c0> as strategy method.\n",
      "Using <function filter_function_factory.<locals>.filter_policies at 0x7f779d47c700> as training strategy selector.\n"
     ]
    },
    {
     "name": "stderr",
     "output_type": "stream",
     "text": [
      "  0%|          | 0/15 [00:00<?, ?it/s]"
     ]
    },
    {
     "name": "stdout",
     "output_type": "stream",
     "text": [
      "budget=400\n",
      "budget=900\n",
      "budget=1600\n",
      "budget=2500\n"
     ]
    },
    {
     "name": "stderr",
     "output_type": "stream",
     "text": [
      " 53%|█████▎    | 8/15 [00:00<00:00, 19.60it/s]"
     ]
    },
    {
     "name": "stdout",
     "output_type": "stream",
     "text": [
      "budget=3600\n",
      "budget=4900\n",
      "budget=6400\n",
      "budget=8100\n",
      "budget=10000\n",
      "budget=12100\n"
     ]
    },
    {
     "name": "stderr",
     "output_type": "stream",
     "text": [
      " 73%|███████▎  | 11/15 [00:00<00:00, 17.07it/s]"
     ]
    },
    {
     "name": "stdout",
     "output_type": "stream",
     "text": [
      "budget=14400\n",
      "budget=16900\n",
      "budget=19600\n"
     ]
    },
    {
     "name": "stderr",
     "output_type": "stream",
     "text": [
      "100%|██████████| 15/15 [00:01<00:00, 14.24it/s]\n"
     ]
    },
    {
     "name": "stdout",
     "output_type": "stream",
     "text": [
      "budget=22500\n",
      "budget=25600\n",
      "erdmgnbl\n",
      "Using 50 sims per entry.\n",
      "Rectifier : \n",
      "Perturbating oracle outputs : False\n",
      "Sampling from marginals : True\n",
      "Using <function nash_strategy at 0x7f771b70c4c0> as strategy method.\n",
      "Using <function filter_function_factory.<locals>.filter_policies at 0x7f779d47c700> as training strategy selector.\n"
     ]
    },
    {
     "name": "stderr",
     "output_type": "stream",
     "text": [
      "  0%|          | 0/15 [00:00<?, ?it/s]"
     ]
    },
    {
     "name": "stdout",
     "output_type": "stream",
     "text": [
      "budget=200\n",
      "budget=450\n",
      "budget=800\n"
     ]
    },
    {
     "name": "stderr",
     "output_type": "stream",
     "text": [
      " 33%|███▎      | 5/15 [00:00<00:00, 42.98it/s]"
     ]
    },
    {
     "name": "stdout",
     "output_type": "stream",
     "text": [
      "budget=1250\n",
      "budget=1800\n",
      "budget=2450\n",
      "budget=3200\n",
      "budget=4050\n",
      "budget=5000\n",
      "budget=6050\n"
     ]
    },
    {
     "name": "stderr",
     "output_type": "stream",
     "text": [
      " 67%|██████▋   | 10/15 [00:00<00:00, 19.15it/s]"
     ]
    },
    {
     "name": "stdout",
     "output_type": "stream",
     "text": [
      "budget=7200\n",
      "budget=8450\n"
     ]
    },
    {
     "name": "stderr",
     "output_type": "stream",
     "text": [
      " 87%|████████▋ | 13/15 [00:00<00:00, 14.53it/s]"
     ]
    },
    {
     "name": "stdout",
     "output_type": "stream",
     "text": [
      "budget=9800\n",
      "budget=11250\n",
      "budget=12800\n"
     ]
    },
    {
     "name": "stderr",
     "output_type": "stream",
     "text": [
      "100%|██████████| 15/15 [00:00<00:00, 16.45it/s]"
     ]
    },
    {
     "name": "stdout",
     "output_type": "stream",
     "text": [
      "uarqqkvw\n",
      "Using 20 sims per entry.\n",
      "Rectifier : \n",
      "Perturbating oracle outputs : False\n",
      "Sampling from marginals : True\n",
      "Using <function nash_strategy at 0x7f771b70c4c0> as strategy method.\n",
      "Using <function filter_function_factory.<locals>.filter_policies at 0x7f779d47c700> as training strategy selector.\n"
     ]
    },
    {
     "name": "stderr",
     "output_type": "stream",
     "text": [
      "\n",
      " 40%|████      | 6/15 [00:00<00:00, 33.28it/s]"
     ]
    },
    {
     "name": "stdout",
     "output_type": "stream",
     "text": [
      "budget=80\n",
      "budget=180\n",
      "budget=320\n",
      "budget=500\n",
      "budget=720\n",
      "budget=980\n",
      "budget=1280\n"
     ]
    },
    {
     "name": "stderr",
     "output_type": "stream",
     "text": [
      " 67%|██████▋   | 10/15 [00:00<00:00, 24.60it/s]"
     ]
    },
    {
     "name": "stdout",
     "output_type": "stream",
     "text": [
      "budget=1620\n",
      "budget=2000\n",
      "budget=2420\n",
      "budget=2880\n"
     ]
    },
    {
     "name": "stderr",
     "output_type": "stream",
     "text": [
      " 87%|████████▋ | 13/15 [00:00<00:00, 17.43it/s]"
     ]
    },
    {
     "name": "stdout",
     "output_type": "stream",
     "text": [
      "budget=3380\n",
      "budget=3920\n",
      "budget=4500\n"
     ]
    },
    {
     "name": "stderr",
     "output_type": "stream",
     "text": [
      "100%|██████████| 15/15 [00:00<00:00, 19.50it/s]\n"
     ]
    },
    {
     "name": "stdout",
     "output_type": "stream",
     "text": [
      "budget=5120\n",
      "fhgywkyj\n",
      "Using 10 sims per entry.\n",
      "Rectifier : \n",
      "Perturbating oracle outputs : False\n",
      "Sampling from marginals : True\n",
      "Using <function nash_strategy at 0x7f771b70c4c0> as strategy method.\n",
      "Using <function filter_function_factory.<locals>.filter_policies at 0x7f779d47c700> as training strategy selector.\n"
     ]
    },
    {
     "name": "stderr",
     "output_type": "stream",
     "text": [
      " 33%|███▎      | 5/15 [00:00<00:00, 40.05it/s]"
     ]
    },
    {
     "name": "stdout",
     "output_type": "stream",
     "text": [
      "budget=40\n",
      "budget=90\n",
      "budget=160\n",
      "budget=250\n",
      "budget=360\n",
      "budget=490\n"
     ]
    },
    {
     "name": "stderr",
     "output_type": "stream",
     "text": [
      " 67%|██████▋   | 10/15 [00:00<00:00, 22.41it/s]"
     ]
    },
    {
     "name": "stdout",
     "output_type": "stream",
     "text": [
      "budget=640\n",
      "budget=810\n",
      "budget=1000\n",
      "budget=1210\n",
      "budget=1440\n"
     ]
    },
    {
     "name": "stderr",
     "output_type": "stream",
     "text": [
      " 87%|████████▋ | 13/15 [00:00<00:00, 20.04it/s]"
     ]
    },
    {
     "name": "stdout",
     "output_type": "stream",
     "text": [
      "budget=1690\n",
      "budget=1960\n",
      "budget=2250\n",
      "budget=2560\n"
     ]
    },
    {
     "name": "stderr",
     "output_type": "stream",
     "text": [
      "100%|██████████| 15/15 [00:00<00:00, 20.83it/s]\n"
     ]
    },
    {
     "name": "stdout",
     "output_type": "stream",
     "text": [
      "sgevvsuv\n",
      "Using 5 sims per entry.\n",
      "Rectifier : \n",
      "Perturbating oracle outputs : False\n",
      "Sampling from marginals : True\n",
      "Using <function nash_strategy at 0x7f771b70c4c0> as strategy method.\n",
      "Using <function filter_function_factory.<locals>.filter_policies at 0x7f779d47c700> as training strategy selector.\n"
     ]
    },
    {
     "name": "stderr",
     "output_type": "stream",
     "text": [
      " 33%|███▎      | 5/15 [00:00<00:00, 49.90it/s]"
     ]
    },
    {
     "name": "stdout",
     "output_type": "stream",
     "text": [
      "budget=20\n",
      "budget=45\n",
      "budget=80\n",
      "budget=125\n",
      "budget=180\n",
      "budget=245\n",
      "budget=320\n",
      "budget=405\n"
     ]
    },
    {
     "name": "stderr",
     "output_type": "stream",
     "text": [
      " 67%|██████▋   | 10/15 [00:00<00:00, 32.62it/s]"
     ]
    },
    {
     "name": "stdout",
     "output_type": "stream",
     "text": [
      "budget=500\n",
      "budget=605\n",
      "budget=720\n",
      "budget=845\n",
      "budget=980\n",
      "budget=1125\n"
     ]
    },
    {
     "name": "stderr",
     "output_type": "stream",
     "text": [
      "100%|██████████| 15/15 [00:00<00:00, 30.03it/s]"
     ]
    },
    {
     "name": "stdout",
     "output_type": "stream",
     "text": [
      "budget=1280\n"
     ]
    },
    {
     "name": "stderr",
     "output_type": "stream",
     "text": [
      "\n"
     ]
    }
   ],
   "source": [
    "samplers = [baseline_uniform, \n",
    "            variance_sampler, \n",
    "            simple_ucb, \n",
    "            # random_sampler\n",
    "            ]\n",
    "for i in range(10):\n",
    "    for sampler in samplers:\n",
    "        generate_data(prd=10000, N=100, data_dir='data_temp', sampler=sampler, steps=15)\n",
    "        generate_data(prd=10000, N=50, data_dir='data_temp', sampler=sampler, steps=15)\n",
    "        generate_data(prd=10000, N=20, data_dir='data_temp', sampler=sampler, steps=15)\n",
    "        generate_data(prd=10000, N=10, data_dir='data_temp', sampler=sampler, steps=15)\n",
    "        generate_data(prd=10000, N=5, data_dir='data_temp', sampler=sampler, steps=15)"
   ]
  },
  {
   "cell_type": "code",
   "execution_count": 6,
   "id": "e1fd7552",
   "metadata": {},
   "outputs": [
    {
     "data": {
      "image/png": "[encoded data removed]",
      "text/plain": [
       "<Figure size 432x288 with 1 Axes>"
      ]
     },
     "metadata": {},
     "output_type": "display_data"
    }
   ],
   "source": [
    "\n",
    "import ast\n",
    "import matplotlib.pyplot as plt\n",
    "import numpy as np\n",
    "import pickle as pkl\n",
    "import seaborn as sns\n",
    "import glob\n",
    "\n",
    "sns.set()\n",
    "\n",
    "def load_data(path):\n",
    "    with open(path, 'r') as f:\n",
    "        raw_data = f.readlines()\n",
    "    \n",
    "    data = []\n",
    "    for d in raw_data:\n",
    "        dict_ = ast.literal_eval(d)\n",
    "\n",
    "        if 'meta_game' in dict_.keys():\n",
    "            dict_['meta_game'] = pkl.loads(dict_['meta_game'])\n",
    "        if 'meta_strategies' in dict_.keys():\n",
    "            dict_['meta_strategies'] = pkl.loads(dict_['meta_strategies'])\n",
    "\n",
    "        data.append(dict_)\n",
    "    return data\n",
    "\n",
    "def is_done(lines, path):\n",
    "    with open(path, 'r') as f:\n",
    "        return len(f.readlines()) >= lines\n",
    "\n",
    "def get_exploit(path):\n",
    "    data = load_data(path)\n",
    "    exploits = np.zeros(100)\n",
    "\n",
    "    data = list(filter(lambda x: 'exploit' in x.keys(), data))\n",
    "    for (i, d) in enumerate(data):\n",
    "        exploits[i] += float(d['exploit'])\n",
    "\n",
    "    return exploits\n",
    "\n",
    "cutoff = 15\n",
    "prd = 10000\n",
    "N = 20\n",
    "for g in [f'data_temp/baseline_uniform_{N}_{prd}*', \n",
    "        #   f'data_temp/random_sampler_{N}_{prd}*', \n",
    "          f'data_temp/simple_ucb_{N}_{prd}*',\n",
    "          f'data_temp/variance_sampler_{N}_{prd}*']:\n",
    "    files = glob.glob(g)\n",
    "#     print(len(files))\n",
    "    files = list(filter(lambda x: is_done(cutoff + 1, x), files))\n",
    "\n",
    "    total_exp = np.zeros((len(files), cutoff))\n",
    "\n",
    "    for (i, f) in enumerate(files):\n",
    "        total_exp[i] = get_exploit(f)[:cutoff]\n",
    "\n",
    "    mean_vals = np.mean(total_exp, axis=0)\n",
    "    # max_vals = np.percentile(total_exp, 95, axis=0)\n",
    "    # min_vals = np.percentile(total_exp, 5, axis=0)\n",
    "    \n",
    "    plt.yscale(\"log\")\n",
    "    plt.plot(mean_vals)\n",
    "    # plt.fill_between(range(len(min_vals)), min_vals, max_vals, alpha=0.5)\n",
    "\n",
    "plt.legend([\"uniform\", \n",
    "            # \"random\", \n",
    "            \"UCB\", \n",
    "            \"variance\"])\n",
    "plt.show()\n"
   ]
  },
  {
   "cell_type": "code",
   "execution_count": null,
   "id": "5a8302a1",
   "metadata": {},
   "outputs": [],
   "source": [
    "samplers = [baseline_uniform, \n",
    "            variance_sampler, \n",
    "            simple_ucb, \n",
    "            # random_sampler\n",
    "            ]\n",
    "for i in range(1):\n",
    "    for sampler in samplers:\n",
    "        generate_data(prd=10000, N=200, data_dir='data_temp', sampler=sampler, steps=25)\n",
    "        generate_data(prd=10000, N=100, data_dir='data_temp', sampler=sampler, steps=25)\n",
    "        generate_data(prd=10000, N=50, data_dir='data_temp', sampler=sampler, steps=25)\n",
    "        generate_data(prd=10000, N=10, data_dir='data_temp', sampler=sampler, steps=25)\n",
    "        generate_data(prd=10000, N=5, data_dir='data_temp', sampler=sampler, steps=25)"
   ]
  },
  {
   "cell_type": "code",
   "execution_count": 43,
   "id": "21db2b83",
   "metadata": {},
   "outputs": [
    {
     "data": {
      "image/png": "[encoded data removed]",
      "text/plain": [
       "<Figure size 432x288 with 1 Axes>"
      ]
     },
     "metadata": {},
     "output_type": "display_data"
    }
   ],
   "source": [
    "\n",
    "import ast\n",
    "import matplotlib.pyplot as plt\n",
    "import numpy as np\n",
    "import pickle as pkl\n",
    "import seaborn as sns\n",
    "import glob\n",
    "\n",
    "sns.set()\n",
    "\n",
    "def load_data(path):\n",
    "    with open(path, 'r') as f:\n",
    "        raw_data = f.readlines()\n",
    "    \n",
    "    data = []\n",
    "    for d in raw_data:\n",
    "        dict_ = ast.literal_eval(d)\n",
    "\n",
    "        if 'meta_game' in dict_.keys():\n",
    "            dict_['meta_game'] = pkl.loads(dict_['meta_game'])\n",
    "        if 'meta_strategies' in dict_.keys():\n",
    "            dict_['meta_strategies'] = pkl.loads(dict_['meta_strategies'])\n",
    "\n",
    "        data.append(dict_)\n",
    "    return data\n",
    "\n",
    "def is_done(lines, path):\n",
    "    with open(path, 'r') as f:\n",
    "        return len(f.readlines()) >= lines\n",
    "\n",
    "def get_exploit(path):\n",
    "    data = load_data(path)\n",
    "    exploits = np.zeros(100)\n",
    "\n",
    "    data = list(filter(lambda x: 'exploit' in x.keys(), data))\n",
    "    for (i, d) in enumerate(data):\n",
    "        exploits[i] += float(d['exploit'])\n",
    "\n",
    "    return exploits\n",
    "\n",
    "cutoff = 15\n",
    "prd = 10000\n",
    "N = 5\n",
    "for g in [f'data_fixed/baseline_uniform_{N}_{prd}*', \n",
    "        #   f'data_temp/random_sampler_{N}_{prd}*', \n",
    "          f'data_fixed/simple_ucb_{N}_{prd}*',\n",
    "        #   f'data_fixed/baseline_uniform_{100}_{prd}*',\n",
    "        #   f'data_fixed/simple_ucb_{100}_{prd}*',\n",
    "          f'data_fixed/variance_sampler_{N}_{prd}*']:\n",
    "    files = glob.glob(g)\n",
    "#     print(len(files))\n",
    "    files = list(filter(lambda x: is_done(cutoff + 1, x), files))\n",
    "\n",
    "    total_exp = np.zeros((len(files), cutoff))\n",
    "\n",
    "    for (i, f) in enumerate(files):\n",
    "        total_exp[i] = get_exploit(f)[:cutoff]\n",
    "\n",
    "    mean_vals = np.mean(total_exp, axis=0)\n",
    "    # max_vals = np.percentile(total_exp, 95, axis=0)\n",
    "    # min_vals = np.percentile(total_exp, 5, axis=0)\n",
    "    \n",
    "    plt.yscale(\"log\")\n",
    "    plt.plot(mean_vals)\n",
    "    # plt.fill_between(range(len(min_vals)), min_vals, max_vals, alpha=0.5)\n",
    "\n",
    "plt.legend([\"uniform:5\", \n",
    "            # \"random\", \n",
    "            \"UCB:5\", \n",
    "            # \"baseline_100\",\n",
    "            # \"UCB:100\",\n",
    "            \"variance:5\"])\n",
    "plt.show()\n"
   ]
  },
  {
   "cell_type": "code",
   "execution_count": 33,
   "id": "7e560c33-c2a9-4d7d-b579-29d2e2024c18",
   "metadata": {},
   "outputs": [
    {
     "name": "stdout",
     "output_type": "stream",
     "text": [
      "avdizcgg\n",
      "Using 200 sims per entry.\n",
      "Rectifier : \n",
      "Perturbating oracle outputs : False\n",
      "Sampling from marginals : True\n",
      "Using <function nash_strategy at 0x7fd2eae06a60> as strategy method.\n",
      "Using <function filter_function_factory.<locals>.filter_policies at 0x7fd36cb74ca0> as training strategy selector.\n"
     ]
    },
    {
     "name": "stderr",
     "output_type": "stream",
     "text": [
      "  0%|          | 0/15 [00:00<?, ?it/s]/mnt/c/Users/Geoff/Documents/Hannibal-final/samplers.py:20: RuntimeWarning: invalid value encountered in true_divide\n",
      "  return meta / counts\n",
      "/home/geoff/.local/lib/python3.9/site-packages/numpy/core/fromnumeric.py:86: VisibleDeprecationWarning: Creating an ndarray from ragged nested sequences (which is a list-or-tuple of lists-or-tuples-or ndarrays with different lengths or shapes) is deprecated. If you meant to do this, you must specify 'dtype=object' when creating the ndarray.\n",
      "  return ufunc.reduce(obj, axis, dtype, out, **passkwargs)\n",
      " 13%|█▎        | 2/15 [00:00<00:00, 14.35it/s]"
     ]
    },
    {
     "name": "stdout",
     "output_type": "stream",
     "text": [
      "budget=800\n",
      "budget=1800\n",
      "budget=3200\n"
     ]
    },
    {
     "name": "stderr",
     "output_type": "stream",
     "text": [
      " 27%|██▋       | 4/15 [00:00<00:01,  8.51it/s]"
     ]
    },
    {
     "name": "stdout",
     "output_type": "stream",
     "text": [
      "budget=5000\n",
      "budget=7200\n"
     ]
    },
    {
     "name": "stderr",
     "output_type": "stream",
     "text": [
      " 40%|████      | 6/15 [00:00<00:01,  5.85it/s]"
     ]
    },
    {
     "name": "stdout",
     "output_type": "stream",
     "text": [
      "budget=9800\n",
      "budget=12800\n"
     ]
    },
    {
     "name": "stderr",
     "output_type": "stream",
     "text": [
      " 47%|████▋     | 7/15 [00:01<00:01,  5.02it/s]"
     ]
    },
    {
     "name": "stdout",
     "output_type": "stream",
     "text": [
      "budget=16200\n"
     ]
    },
    {
     "name": "stderr",
     "output_type": "stream",
     "text": [
      " 53%|█████▎    | 8/15 [00:01<00:01,  4.32it/s]"
     ]
    },
    {
     "name": "stdout",
     "output_type": "stream",
     "text": [
      "budget=20000\n"
     ]
    },
    {
     "name": "stderr",
     "output_type": "stream",
     "text": [
      " 60%|██████    | 9/15 [00:01<00:01,  3.33it/s]"
     ]
    },
    {
     "name": "stdout",
     "output_type": "stream",
     "text": [
      "budget=24200\n"
     ]
    },
    {
     "name": "stderr",
     "output_type": "stream",
     "text": [
      " 67%|██████▋   | 10/15 [00:02<00:01,  3.05it/s]"
     ]
    },
    {
     "name": "stdout",
     "output_type": "stream",
     "text": [
      "budget=28800\n"
     ]
    },
    {
     "name": "stderr",
     "output_type": "stream",
     "text": [
      " 73%|███████▎  | 11/15 [00:02<00:01,  2.88it/s]"
     ]
    },
    {
     "name": "stdout",
     "output_type": "stream",
     "text": [
      "budget=33800\n"
     ]
    },
    {
     "name": "stderr",
     "output_type": "stream",
     "text": [
      " 80%|████████  | 12/15 [00:03<00:01,  2.75it/s]"
     ]
    },
    {
     "name": "stdout",
     "output_type": "stream",
     "text": [
      "budget=39200\n"
     ]
    },
    {
     "name": "stderr",
     "output_type": "stream",
     "text": [
      " 87%|████████▋ | 13/15 [00:03<00:00,  2.52it/s]"
     ]
    },
    {
     "name": "stdout",
     "output_type": "stream",
     "text": [
      "budget=45000\n"
     ]
    },
    {
     "name": "stderr",
     "output_type": "stream",
     "text": [
      " 93%|█████████▎| 14/15 [00:04<00:00,  3.26it/s]"
     ]
    },
    {
     "name": "stdout",
     "output_type": "stream",
     "text": [
      "budget=51200\n"
     ]
    },
    {
     "name": "stderr",
     "output_type": "stream",
     "text": [
      "\n"
     ]
    },
    {
     "ename": "KeyboardInterrupt",
     "evalue": "",
     "output_type": "error",
     "traceback": [
      "\u001b[0;31m---------------------------------------------------------------------------\u001b[0m",
      "\u001b[0;31mKeyboardInterrupt\u001b[0m                         Traceback (most recent call last)",
      "\u001b[0;32m/tmp/ipykernel_23630/628186081.py\u001b[0m in \u001b[0;36m<module>\u001b[0;34m\u001b[0m\n\u001b[1;32m      6\u001b[0m \u001b[0;32mfor\u001b[0m \u001b[0mi\u001b[0m \u001b[0;32min\u001b[0m \u001b[0mrange\u001b[0m\u001b[0;34m(\u001b[0m\u001b[0;36m10\u001b[0m\u001b[0;34m)\u001b[0m\u001b[0;34m:\u001b[0m\u001b[0;34m\u001b[0m\u001b[0;34m\u001b[0m\u001b[0m\n\u001b[1;32m      7\u001b[0m     \u001b[0;32mfor\u001b[0m \u001b[0msampler\u001b[0m \u001b[0;32min\u001b[0m \u001b[0msamplers\u001b[0m\u001b[0;34m:\u001b[0m\u001b[0;34m\u001b[0m\u001b[0;34m\u001b[0m\u001b[0m\n\u001b[0;32m----> 8\u001b[0;31m         \u001b[0mgenerate_data\u001b[0m\u001b[0;34m(\u001b[0m\u001b[0mprd\u001b[0m\u001b[0;34m=\u001b[0m\u001b[0;36m10000\u001b[0m\u001b[0;34m,\u001b[0m \u001b[0mN\u001b[0m\u001b[0;34m=\u001b[0m\u001b[0;36m200\u001b[0m\u001b[0;34m,\u001b[0m \u001b[0mdata_dir\u001b[0m\u001b[0;34m=\u001b[0m\u001b[0;34m'data_fixed'\u001b[0m\u001b[0;34m,\u001b[0m \u001b[0msampler\u001b[0m\u001b[0;34m=\u001b[0m\u001b[0msampler\u001b[0m\u001b[0;34m,\u001b[0m \u001b[0msteps\u001b[0m\u001b[0;34m=\u001b[0m\u001b[0;36m15\u001b[0m\u001b[0;34m)\u001b[0m\u001b[0;34m\u001b[0m\u001b[0;34m\u001b[0m\u001b[0m\n\u001b[0m\u001b[1;32m      9\u001b[0m         \u001b[0mgenerate_data\u001b[0m\u001b[0;34m(\u001b[0m\u001b[0mprd\u001b[0m\u001b[0;34m=\u001b[0m\u001b[0;36m10000\u001b[0m\u001b[0;34m,\u001b[0m \u001b[0mN\u001b[0m\u001b[0;34m=\u001b[0m\u001b[0;36m100\u001b[0m\u001b[0;34m,\u001b[0m \u001b[0mdata_dir\u001b[0m\u001b[0;34m=\u001b[0m\u001b[0;34m'data_fixed'\u001b[0m\u001b[0;34m,\u001b[0m \u001b[0msampler\u001b[0m\u001b[0;34m=\u001b[0m\u001b[0msampler\u001b[0m\u001b[0;34m,\u001b[0m \u001b[0msteps\u001b[0m\u001b[0;34m=\u001b[0m\u001b[0;36m15\u001b[0m\u001b[0;34m)\u001b[0m\u001b[0;34m\u001b[0m\u001b[0;34m\u001b[0m\u001b[0m\n\u001b[1;32m     10\u001b[0m         \u001b[0mgenerate_data\u001b[0m\u001b[0;34m(\u001b[0m\u001b[0mprd\u001b[0m\u001b[0;34m=\u001b[0m\u001b[0;36m10000\u001b[0m\u001b[0;34m,\u001b[0m \u001b[0mN\u001b[0m\u001b[0;34m=\u001b[0m\u001b[0;36m50\u001b[0m\u001b[0;34m,\u001b[0m \u001b[0mdata_dir\u001b[0m\u001b[0;34m=\u001b[0m\u001b[0;34m'data_fixed'\u001b[0m\u001b[0;34m,\u001b[0m \u001b[0msampler\u001b[0m\u001b[0;34m=\u001b[0m\u001b[0msampler\u001b[0m\u001b[0;34m,\u001b[0m \u001b[0msteps\u001b[0m\u001b[0;34m=\u001b[0m\u001b[0;36m15\u001b[0m\u001b[0;34m)\u001b[0m\u001b[0;34m\u001b[0m\u001b[0;34m\u001b[0m\u001b[0m\n",
      "\u001b[0;32m/tmp/ipykernel_23630/863502088.py\u001b[0m in \u001b[0;36mgenerate_data\u001b[0;34m(prd, N, data_dir, sampler, steps)\u001b[0m\n\u001b[1;32m    127\u001b[0m \u001b[0;34m\u001b[0m\u001b[0m\n\u001b[1;32m    128\u001b[0m     \u001b[0;32mfor\u001b[0m \u001b[0mit\u001b[0m \u001b[0;32min\u001b[0m \u001b[0mtqdm\u001b[0m\u001b[0;34m.\u001b[0m\u001b[0mtqdm\u001b[0m\u001b[0;34m(\u001b[0m\u001b[0mrange\u001b[0m\u001b[0;34m(\u001b[0m\u001b[0msteps\u001b[0m\u001b[0;34m)\u001b[0m\u001b[0;34m)\u001b[0m\u001b[0;34m:\u001b[0m\u001b[0;34m\u001b[0m\u001b[0;34m\u001b[0m\u001b[0m\n\u001b[0;32m--> 129\u001b[0;31m         \u001b[0minfo\u001b[0m \u001b[0;34m=\u001b[0m \u001b[0mdebug_iteration\u001b[0m\u001b[0;34m(\u001b[0m\u001b[0mPSRO\u001b[0m\u001b[0;34m,\u001b[0m \u001b[0msampler\u001b[0m\u001b[0;34m,\u001b[0m \u001b[0mN\u001b[0m\u001b[0;34m,\u001b[0m \u001b[0mhistory\u001b[0m\u001b[0;34m)\u001b[0m\u001b[0;34m\u001b[0m\u001b[0;34m\u001b[0m\u001b[0m\n\u001b[0m\u001b[1;32m    130\u001b[0m \u001b[0;34m\u001b[0m\u001b[0m\n\u001b[1;32m    131\u001b[0m         \u001b[0minfo\u001b[0m\u001b[0;34m[\u001b[0m\u001b[0;34m\"it\"\u001b[0m\u001b[0;34m]\u001b[0m \u001b[0;34m=\u001b[0m \u001b[0mit\u001b[0m\u001b[0;34m\u001b[0m\u001b[0;34m\u001b[0m\u001b[0m\n",
      "\u001b[0;32m/tmp/ipykernel_23630/863502088.py\u001b[0m in \u001b[0;36mdebug_iteration\u001b[0;34m(psro, sampler, N, history, verbose)\u001b[0m\n\u001b[1;32m     44\u001b[0m     \u001b[0;31m# Update the payoff matrix\u001b[0m\u001b[0;34m\u001b[0m\u001b[0;34m\u001b[0m\u001b[0m\n\u001b[1;32m     45\u001b[0m     \u001b[0mstart\u001b[0m \u001b[0;34m=\u001b[0m \u001b[0mtime\u001b[0m\u001b[0;34m.\u001b[0m\u001b[0mtime\u001b[0m\u001b[0;34m(\u001b[0m\u001b[0;34m)\u001b[0m\u001b[0;34m\u001b[0m\u001b[0;34m\u001b[0m\u001b[0m\n\u001b[0;32m---> 46\u001b[0;31m     \u001b[0mcompute_meta_game\u001b[0m\u001b[0;34m(\u001b[0m\u001b[0mpsro\u001b[0m\u001b[0;34m,\u001b[0m \u001b[0msampler\u001b[0m\u001b[0;34m,\u001b[0m \u001b[0mN\u001b[0m\u001b[0;34m,\u001b[0m \u001b[0mhistory\u001b[0m\u001b[0;34m)\u001b[0m\u001b[0;34m\u001b[0m\u001b[0;34m\u001b[0m\u001b[0m\n\u001b[0m\u001b[1;32m     47\u001b[0m     \u001b[0mend\u001b[0m \u001b[0;34m=\u001b[0m \u001b[0mtime\u001b[0m\u001b[0;34m.\u001b[0m\u001b[0mtime\u001b[0m\u001b[0;34m(\u001b[0m\u001b[0;34m)\u001b[0m\u001b[0;34m\u001b[0m\u001b[0;34m\u001b[0m\u001b[0m\n\u001b[1;32m     48\u001b[0m \u001b[0;34m\u001b[0m\u001b[0m\n",
      "\u001b[0;32m/mnt/c/Users/Geoff/Documents/Hannibal-final/samplers.py\u001b[0m in \u001b[0;36mcompute_meta_game\u001b[0;34m(psro, sampler, N, history)\u001b[0m\n\u001b[1;32m    222\u001b[0m     \u001b[0mbudget\u001b[0m \u001b[0;34m=\u001b[0m \u001b[0msum\u001b[0m\u001b[0;34m(\u001b[0m\u001b[0mN\u001b[0m \u001b[0;34m*\u001b[0m \u001b[0;34m(\u001b[0m\u001b[0;36m2\u001b[0m \u001b[0;34m*\u001b[0m \u001b[0;34m(\u001b[0m\u001b[0mi\u001b[0m \u001b[0;34m+\u001b[0m \u001b[0;36m1\u001b[0m\u001b[0;34m)\u001b[0m \u001b[0;34m+\u001b[0m \u001b[0;36m1\u001b[0m\u001b[0;34m)\u001b[0m \u001b[0;32mfor\u001b[0m \u001b[0mi\u001b[0m \u001b[0;32min\u001b[0m \u001b[0mrange\u001b[0m\u001b[0;34m(\u001b[0m\u001b[0;34m-\u001b[0m\u001b[0;36m1\u001b[0m\u001b[0;34m,\u001b[0m \u001b[0mlen\u001b[0m\u001b[0;34m(\u001b[0m\u001b[0mpsro\u001b[0m\u001b[0;34m.\u001b[0m\u001b[0m_policies\u001b[0m\u001b[0;34m[\u001b[0m\u001b[0;36m0\u001b[0m\u001b[0;34m]\u001b[0m\u001b[0;34m)\u001b[0m\u001b[0;34m)\u001b[0m\u001b[0;34m)\u001b[0m\u001b[0;34m\u001b[0m\u001b[0;34m\u001b[0m\u001b[0m\n\u001b[1;32m    223\u001b[0m     \u001b[0mprint\u001b[0m\u001b[0;34m(\u001b[0m\u001b[0;34mf\"budget={budget}\"\u001b[0m\u001b[0;34m)\u001b[0m\u001b[0;34m\u001b[0m\u001b[0;34m\u001b[0m\u001b[0m\n\u001b[0;32m--> 224\u001b[0;31m     \u001b[0mmeta_game\u001b[0m \u001b[0;34m=\u001b[0m \u001b[0msampler\u001b[0m\u001b[0;34m(\u001b[0m\u001b[0mpsro\u001b[0m\u001b[0;34m,\u001b[0m \u001b[0mbudget\u001b[0m \u001b[0;34m-\u001b[0m \u001b[0mlen\u001b[0m\u001b[0;34m(\u001b[0m\u001b[0mhistory\u001b[0m\u001b[0;34m)\u001b[0m\u001b[0;34m,\u001b[0m \u001b[0mhistory\u001b[0m\u001b[0;34m)\u001b[0m\u001b[0;34m\u001b[0m\u001b[0;34m\u001b[0m\u001b[0m\n\u001b[0m\u001b[1;32m    225\u001b[0m     \u001b[0;32massert\u001b[0m \u001b[0mlen\u001b[0m\u001b[0;34m(\u001b[0m\u001b[0mhistory\u001b[0m\u001b[0;34m)\u001b[0m \u001b[0;34m<=\u001b[0m \u001b[0mbudget\u001b[0m\u001b[0;34m\u001b[0m\u001b[0;34m\u001b[0m\u001b[0m\n\u001b[1;32m    226\u001b[0m \u001b[0;34m\u001b[0m\u001b[0m\n",
      "\u001b[0;32m/mnt/c/Users/Geoff/Documents/Hannibal-final/samplers.py\u001b[0m in \u001b[0;36mbaseline_uniform\u001b[0;34m(psro, budget, history)\u001b[0m\n\u001b[1;32m     63\u001b[0m             \u001b[0msample\u001b[0m\u001b[0;34m(\u001b[0m\u001b[0mpsro\u001b[0m\u001b[0;34m,\u001b[0m \u001b[0mhistory\u001b[0m\u001b[0;34m,\u001b[0m \u001b[0msize\u001b[0m\u001b[0;34m,\u001b[0m \u001b[0mi\u001b[0m\u001b[0;34m)\u001b[0m\u001b[0;34m\u001b[0m\u001b[0;34m\u001b[0m\u001b[0m\n\u001b[1;32m     64\u001b[0m \u001b[0;34m\u001b[0m\u001b[0m\n\u001b[0;32m---> 65\u001b[0;31m         \u001b[0msample\u001b[0m\u001b[0;34m(\u001b[0m\u001b[0mpsro\u001b[0m\u001b[0;34m,\u001b[0m \u001b[0mhistory\u001b[0m\u001b[0;34m,\u001b[0m \u001b[0msize\u001b[0m\u001b[0;34m,\u001b[0m \u001b[0msize\u001b[0m\u001b[0;34m)\u001b[0m\u001b[0;34m\u001b[0m\u001b[0;34m\u001b[0m\u001b[0m\n\u001b[0m\u001b[1;32m     66\u001b[0m \u001b[0;34m\u001b[0m\u001b[0m\n\u001b[1;32m     67\u001b[0m     \u001b[0mmeta_game\u001b[0m \u001b[0;34m=\u001b[0m \u001b[0mcompute_matrix\u001b[0m\u001b[0;34m(\u001b[0m\u001b[0mlen\u001b[0m\u001b[0;34m(\u001b[0m\u001b[0mpolicies\u001b[0m\u001b[0;34m[\u001b[0m\u001b[0;36m0\u001b[0m\u001b[0;34m]\u001b[0m\u001b[0;34m)\u001b[0m\u001b[0;34m,\u001b[0m \u001b[0mhistory\u001b[0m\u001b[0;34m)\u001b[0m\u001b[0;34m\u001b[0m\u001b[0;34m\u001b[0m\u001b[0m\n",
      "\u001b[0;32m/mnt/c/Users/Geoff/Documents/Hannibal-final/samplers.py\u001b[0m in \u001b[0;36msample\u001b[0;34m(psro, history, i, j)\u001b[0m\n\u001b[1;32m     42\u001b[0m     \u001b[0mpolicies\u001b[0m \u001b[0;34m=\u001b[0m \u001b[0;34m[\u001b[0m\u001b[0mpsro\u001b[0m\u001b[0;34m.\u001b[0m\u001b[0m_policies\u001b[0m\u001b[0;34m[\u001b[0m\u001b[0mk\u001b[0m\u001b[0;34m]\u001b[0m \u001b[0;34m+\u001b[0m \u001b[0mpsro\u001b[0m\u001b[0;34m.\u001b[0m\u001b[0m_new_policies\u001b[0m\u001b[0;34m[\u001b[0m\u001b[0mk\u001b[0m\u001b[0;34m]\u001b[0m \u001b[0;32mfor\u001b[0m \u001b[0mk\u001b[0m \u001b[0;32min\u001b[0m \u001b[0mrange\u001b[0m\u001b[0;34m(\u001b[0m\u001b[0mpsro\u001b[0m\u001b[0;34m.\u001b[0m\u001b[0m_num_players\u001b[0m\u001b[0;34m)\u001b[0m\u001b[0;34m]\u001b[0m\u001b[0;34m\u001b[0m\u001b[0;34m\u001b[0m\u001b[0m\n\u001b[1;32m     43\u001b[0m     \u001b[0msamp\u001b[0m \u001b[0;34m=\u001b[0m \u001b[0;34m[\u001b[0m\u001b[0mpolicies\u001b[0m\u001b[0;34m[\u001b[0m\u001b[0;36m0\u001b[0m\u001b[0;34m]\u001b[0m\u001b[0;34m[\u001b[0m\u001b[0mi\u001b[0m\u001b[0;34m]\u001b[0m\u001b[0;34m,\u001b[0m \u001b[0mpolicies\u001b[0m\u001b[0;34m[\u001b[0m\u001b[0;36m1\u001b[0m\u001b[0;34m]\u001b[0m\u001b[0;34m[\u001b[0m\u001b[0mj\u001b[0m\u001b[0;34m]\u001b[0m\u001b[0;34m]\u001b[0m\u001b[0;34m\u001b[0m\u001b[0;34m\u001b[0m\u001b[0m\n\u001b[0;32m---> 44\u001b[0;31m     \u001b[0mout\u001b[0m \u001b[0;34m=\u001b[0m \u001b[0mpsro\u001b[0m\u001b[0;34m.\u001b[0m\u001b[0msample_episodes\u001b[0m\u001b[0;34m(\u001b[0m\u001b[0msamp\u001b[0m\u001b[0;34m,\u001b[0m \u001b[0;36m1\u001b[0m\u001b[0;34m)\u001b[0m\u001b[0;34m[\u001b[0m\u001b[0;36m0\u001b[0m\u001b[0;34m]\u001b[0m\u001b[0;34m\u001b[0m\u001b[0;34m\u001b[0m\u001b[0m\n\u001b[0m\u001b[1;32m     45\u001b[0m     \u001b[0mhistory\u001b[0m\u001b[0;34m.\u001b[0m\u001b[0mappend\u001b[0m\u001b[0;34m(\u001b[0m\u001b[0;34m(\u001b[0m\u001b[0;34m(\u001b[0m\u001b[0mi\u001b[0m\u001b[0;34m,\u001b[0m \u001b[0mj\u001b[0m\u001b[0;34m)\u001b[0m\u001b[0;34m,\u001b[0m \u001b[0mout\u001b[0m\u001b[0;34m)\u001b[0m\u001b[0;34m)\u001b[0m\u001b[0;34m\u001b[0m\u001b[0;34m\u001b[0m\u001b[0m\n\u001b[1;32m     46\u001b[0m     \u001b[0;32mreturn\u001b[0m \u001b[0mout\u001b[0m\u001b[0;34m\u001b[0m\u001b[0;34m\u001b[0m\u001b[0m\n",
      "\u001b[0;32m~/miniconda3/envs/cs282/lib/python3.9/site-packages/open_spiel/python/algorithms/psro_v2/abstract_meta_trainer.py\u001b[0m in \u001b[0;36msample_episodes\u001b[0;34m(self, policies, num_episodes)\u001b[0m\n\u001b[1;32m    220\u001b[0m     \u001b[0mtotals\u001b[0m \u001b[0;34m=\u001b[0m \u001b[0mnp\u001b[0m\u001b[0;34m.\u001b[0m\u001b[0mzeros\u001b[0m\u001b[0;34m(\u001b[0m\u001b[0mself\u001b[0m\u001b[0;34m.\u001b[0m\u001b[0m_num_players\u001b[0m\u001b[0;34m)\u001b[0m\u001b[0;34m\u001b[0m\u001b[0;34m\u001b[0m\u001b[0m\n\u001b[1;32m    221\u001b[0m     \u001b[0;32mfor\u001b[0m \u001b[0m_\u001b[0m \u001b[0;32min\u001b[0m \u001b[0mrange\u001b[0m\u001b[0;34m(\u001b[0m\u001b[0mnum_episodes\u001b[0m\u001b[0;34m)\u001b[0m\u001b[0;34m:\u001b[0m\u001b[0;34m\u001b[0m\u001b[0;34m\u001b[0m\u001b[0m\n\u001b[0;32m--> 222\u001b[0;31m       totals += sample_episode(self._game.new_initial_state(),\n\u001b[0m\u001b[1;32m    223\u001b[0m                                policies).reshape(-1)\n\u001b[1;32m    224\u001b[0m     \u001b[0;32mreturn\u001b[0m \u001b[0mtotals\u001b[0m \u001b[0;34m/\u001b[0m \u001b[0mnum_episodes\u001b[0m\u001b[0;34m\u001b[0m\u001b[0;34m\u001b[0m\u001b[0m\n",
      "\u001b[0;32m~/miniconda3/envs/cs282/lib/python3.9/site-packages/open_spiel/python/algorithms/psro_v2/abstract_meta_trainer.py\u001b[0m in \u001b[0;36msample_episode\u001b[0;34m(state, policies)\u001b[0m\n\u001b[1;32m     87\u001b[0m \u001b[0;34m\u001b[0m\u001b[0m\n\u001b[1;32m     88\u001b[0m   \u001b[0mstate\u001b[0m\u001b[0;34m.\u001b[0m\u001b[0mapply_action\u001b[0m\u001b[0;34m(\u001b[0m\u001b[0mutils\u001b[0m\u001b[0;34m.\u001b[0m\u001b[0mrandom_choice\u001b[0m\u001b[0;34m(\u001b[0m\u001b[0moutcomes\u001b[0m\u001b[0;34m,\u001b[0m \u001b[0mprobs\u001b[0m\u001b[0;34m)\u001b[0m\u001b[0;34m)\u001b[0m\u001b[0;34m\u001b[0m\u001b[0;34m\u001b[0m\u001b[0m\n\u001b[0;32m---> 89\u001b[0;31m   \u001b[0;32mreturn\u001b[0m \u001b[0msample_episode\u001b[0m\u001b[0;34m(\u001b[0m\u001b[0mstate\u001b[0m\u001b[0;34m,\u001b[0m \u001b[0mpolicies\u001b[0m\u001b[0;34m)\u001b[0m\u001b[0;34m\u001b[0m\u001b[0;34m\u001b[0m\u001b[0m\n\u001b[0m\u001b[1;32m     90\u001b[0m \u001b[0;34m\u001b[0m\u001b[0m\n\u001b[1;32m     91\u001b[0m \u001b[0;34m\u001b[0m\u001b[0m\n",
      "\u001b[0;32m~/miniconda3/envs/cs282/lib/python3.9/site-packages/open_spiel/python/algorithms/psro_v2/abstract_meta_trainer.py\u001b[0m in \u001b[0;36msample_episode\u001b[0;34m(state, policies)\u001b[0m\n\u001b[1;32m     87\u001b[0m \u001b[0;34m\u001b[0m\u001b[0m\n\u001b[1;32m     88\u001b[0m   \u001b[0mstate\u001b[0m\u001b[0;34m.\u001b[0m\u001b[0mapply_action\u001b[0m\u001b[0;34m(\u001b[0m\u001b[0mutils\u001b[0m\u001b[0;34m.\u001b[0m\u001b[0mrandom_choice\u001b[0m\u001b[0;34m(\u001b[0m\u001b[0moutcomes\u001b[0m\u001b[0;34m,\u001b[0m \u001b[0mprobs\u001b[0m\u001b[0;34m)\u001b[0m\u001b[0;34m)\u001b[0m\u001b[0;34m\u001b[0m\u001b[0;34m\u001b[0m\u001b[0m\n\u001b[0;32m---> 89\u001b[0;31m   \u001b[0;32mreturn\u001b[0m \u001b[0msample_episode\u001b[0m\u001b[0;34m(\u001b[0m\u001b[0mstate\u001b[0m\u001b[0;34m,\u001b[0m \u001b[0mpolicies\u001b[0m\u001b[0;34m)\u001b[0m\u001b[0;34m\u001b[0m\u001b[0;34m\u001b[0m\u001b[0m\n\u001b[0m\u001b[1;32m     90\u001b[0m \u001b[0;34m\u001b[0m\u001b[0m\n\u001b[1;32m     91\u001b[0m \u001b[0;34m\u001b[0m\u001b[0m\n",
      "\u001b[0;32m~/miniconda3/envs/cs282/lib/python3.9/site-packages/open_spiel/python/algorithms/psro_v2/abstract_meta_trainer.py\u001b[0m in \u001b[0;36msample_episode\u001b[0;34m(state, policies)\u001b[0m\n\u001b[1;32m     86\u001b[0m     \u001b[0moutcomes\u001b[0m\u001b[0;34m,\u001b[0m \u001b[0mprobs\u001b[0m \u001b[0;34m=\u001b[0m \u001b[0mzip\u001b[0m\u001b[0;34m(\u001b[0m\u001b[0;34m*\u001b[0m\u001b[0mstate_policy\u001b[0m\u001b[0;34m.\u001b[0m\u001b[0mitems\u001b[0m\u001b[0;34m(\u001b[0m\u001b[0;34m)\u001b[0m\u001b[0;34m)\u001b[0m\u001b[0;34m\u001b[0m\u001b[0;34m\u001b[0m\u001b[0m\n\u001b[1;32m     87\u001b[0m \u001b[0;34m\u001b[0m\u001b[0m\n\u001b[0;32m---> 88\u001b[0;31m   \u001b[0mstate\u001b[0m\u001b[0;34m.\u001b[0m\u001b[0mapply_action\u001b[0m\u001b[0;34m(\u001b[0m\u001b[0mutils\u001b[0m\u001b[0;34m.\u001b[0m\u001b[0mrandom_choice\u001b[0m\u001b[0;34m(\u001b[0m\u001b[0moutcomes\u001b[0m\u001b[0;34m,\u001b[0m \u001b[0mprobs\u001b[0m\u001b[0;34m)\u001b[0m\u001b[0;34m)\u001b[0m\u001b[0;34m\u001b[0m\u001b[0;34m\u001b[0m\u001b[0m\n\u001b[0m\u001b[1;32m     89\u001b[0m   \u001b[0;32mreturn\u001b[0m \u001b[0msample_episode\u001b[0m\u001b[0;34m(\u001b[0m\u001b[0mstate\u001b[0m\u001b[0;34m,\u001b[0m \u001b[0mpolicies\u001b[0m\u001b[0;34m)\u001b[0m\u001b[0;34m\u001b[0m\u001b[0;34m\u001b[0m\u001b[0m\n\u001b[1;32m     90\u001b[0m \u001b[0;34m\u001b[0m\u001b[0m\n",
      "\u001b[0;32m~/miniconda3/envs/cs282/lib/python3.9/site-packages/open_spiel/python/algorithms/psro_v2/utils.py\u001b[0m in \u001b[0;36mrandom_choice\u001b[0;34m(outcomes, probabilities)\u001b[0m\n\u001b[1;32m     47\u001b[0m   \"\"\"\n\u001b[1;32m     48\u001b[0m   \u001b[0mcumsum\u001b[0m \u001b[0;34m=\u001b[0m \u001b[0mnp\u001b[0m\u001b[0;34m.\u001b[0m\u001b[0mcumsum\u001b[0m\u001b[0;34m(\u001b[0m\u001b[0mprobabilities\u001b[0m\u001b[0;34m)\u001b[0m\u001b[0;34m\u001b[0m\u001b[0;34m\u001b[0m\u001b[0m\n\u001b[0;32m---> 49\u001b[0;31m   \u001b[0;32mreturn\u001b[0m \u001b[0moutcomes\u001b[0m\u001b[0;34m[\u001b[0m\u001b[0mnp\u001b[0m\u001b[0;34m.\u001b[0m\u001b[0msearchsorted\u001b[0m\u001b[0;34m(\u001b[0m\u001b[0mcumsum\u001b[0m\u001b[0;34m/\u001b[0m\u001b[0mcumsum\u001b[0m\u001b[0;34m[\u001b[0m\u001b[0;34m-\u001b[0m\u001b[0;36m1\u001b[0m\u001b[0;34m]\u001b[0m\u001b[0;34m,\u001b[0m \u001b[0mrandom\u001b[0m\u001b[0;34m.\u001b[0m\u001b[0mrandom\u001b[0m\u001b[0;34m(\u001b[0m\u001b[0;34m)\u001b[0m\u001b[0;34m)\u001b[0m\u001b[0;34m]\u001b[0m\u001b[0;34m\u001b[0m\u001b[0;34m\u001b[0m\u001b[0m\n\u001b[0m\u001b[1;32m     50\u001b[0m \u001b[0;34m\u001b[0m\u001b[0m\n\u001b[1;32m     51\u001b[0m \u001b[0;34m\u001b[0m\u001b[0m\n",
      "\u001b[0;32m<__array_function__ internals>\u001b[0m in \u001b[0;36msearchsorted\u001b[0;34m(*args, **kwargs)\u001b[0m\n",
      "\u001b[0;32m~/.local/lib/python3.9/site-packages/numpy/core/fromnumeric.py\u001b[0m in \u001b[0;36msearchsorted\u001b[0;34m(a, v, side, sorter)\u001b[0m\n\u001b[1;32m   1348\u001b[0m \u001b[0;34m\u001b[0m\u001b[0m\n\u001b[1;32m   1349\u001b[0m     \"\"\"\n\u001b[0;32m-> 1350\u001b[0;31m     \u001b[0;32mreturn\u001b[0m \u001b[0m_wrapfunc\u001b[0m\u001b[0;34m(\u001b[0m\u001b[0ma\u001b[0m\u001b[0;34m,\u001b[0m \u001b[0;34m'searchsorted'\u001b[0m\u001b[0;34m,\u001b[0m \u001b[0mv\u001b[0m\u001b[0;34m,\u001b[0m \u001b[0mside\u001b[0m\u001b[0;34m=\u001b[0m\u001b[0mside\u001b[0m\u001b[0;34m,\u001b[0m \u001b[0msorter\u001b[0m\u001b[0;34m=\u001b[0m\u001b[0msorter\u001b[0m\u001b[0;34m)\u001b[0m\u001b[0;34m\u001b[0m\u001b[0;34m\u001b[0m\u001b[0m\n\u001b[0m\u001b[1;32m   1351\u001b[0m \u001b[0;34m\u001b[0m\u001b[0m\n\u001b[1;32m   1352\u001b[0m \u001b[0;34m\u001b[0m\u001b[0m\n",
      "\u001b[0;32m~/.local/lib/python3.9/site-packages/numpy/core/fromnumeric.py\u001b[0m in \u001b[0;36m_wrapfunc\u001b[0;34m(obj, method, *args, **kwds)\u001b[0m\n\u001b[1;32m     55\u001b[0m \u001b[0;34m\u001b[0m\u001b[0m\n\u001b[1;32m     56\u001b[0m     \u001b[0;32mtry\u001b[0m\u001b[0;34m:\u001b[0m\u001b[0;34m\u001b[0m\u001b[0;34m\u001b[0m\u001b[0m\n\u001b[0;32m---> 57\u001b[0;31m         \u001b[0;32mreturn\u001b[0m \u001b[0mbound\u001b[0m\u001b[0;34m(\u001b[0m\u001b[0;34m*\u001b[0m\u001b[0margs\u001b[0m\u001b[0;34m,\u001b[0m \u001b[0;34m**\u001b[0m\u001b[0mkwds\u001b[0m\u001b[0;34m)\u001b[0m\u001b[0;34m\u001b[0m\u001b[0;34m\u001b[0m\u001b[0m\n\u001b[0m\u001b[1;32m     58\u001b[0m     \u001b[0;32mexcept\u001b[0m \u001b[0mTypeError\u001b[0m\u001b[0;34m:\u001b[0m\u001b[0;34m\u001b[0m\u001b[0;34m\u001b[0m\u001b[0m\n\u001b[1;32m     59\u001b[0m         \u001b[0;31m# A TypeError occurs if the object does have such a method in its\u001b[0m\u001b[0;34m\u001b[0m\u001b[0;34m\u001b[0m\u001b[0m\n",
      "\u001b[0;31mKeyboardInterrupt\u001b[0m: "
     ]
    }
   ],
   "source": [
    "samplers = [baseline_uniform, \n",
    "            variance_sampler, \n",
    "            simple_ucb, \n",
    "            # random_sampler\n",
    "            ]\n",
    "for i in range(10):\n",
    "    for sampler in samplers:\n",
    "        generate_data(prd=10000, N=200, data_dir='data_fixed', sampler=sampler, steps=15)\n",
    "        generate_data(prd=10000, N=100, data_dir='data_fixed', sampler=sampler, steps=15)\n",
    "        generate_data(prd=10000, N=50, data_dir='data_fixed', sampler=sampler, steps=15)\n",
    "        generate_data(prd=10000, N=10, data_dir='data_fixed', sampler=sampler, steps=15)\n",
    "        generate_data(prd=10000, N=5, data_dir='data_fixed', sampler=sampler, steps=15)"
   ]
  },
  {
   "cell_type": "code",
   "execution_count": 15,
   "id": "519f7576-cb19-42ae-9c09-fa4775333a70",
   "metadata": {},
   "outputs": [
    {
     "name": "stderr",
     "output_type": "stream",
     "text": [
      "/home/geoff/.local/lib/python3.9/site-packages/numpy/core/fromnumeric.py:3440: RuntimeWarning: Mean of empty slice.\n",
      "  return _methods._mean(a, axis=axis, dtype=dtype,\n",
      "/home/geoff/.local/lib/python3.9/site-packages/numpy/core/_methods.py:181: RuntimeWarning: invalid value encountered in true_divide\n",
      "  ret = um.true_divide(\n",
      "/home/geoff/.local/lib/python3.9/site-packages/numpy/core/fromnumeric.py:3440: RuntimeWarning: Mean of empty slice.\n",
      "  return _methods._mean(a, axis=axis, dtype=dtype,\n",
      "/home/geoff/.local/lib/python3.9/site-packages/numpy/core/_methods.py:181: RuntimeWarning: invalid value encountered in true_divide\n",
      "  ret = um.true_divide(\n",
      "/home/geoff/.local/lib/python3.9/site-packages/numpy/core/fromnumeric.py:3440: RuntimeWarning: Mean of empty slice.\n",
      "  return _methods._mean(a, axis=axis, dtype=dtype,\n",
      "/home/geoff/.local/lib/python3.9/site-packages/numpy/core/_methods.py:181: RuntimeWarning: invalid value encountered in true_divide\n",
      "  ret = um.true_divide(\n"
     ]
    },
    {
     "data": {
      "image/png": "[encoded data removed]",
      "text/plain": [
       "<Figure size 432x288 with 1 Axes>"
      ]
     },
     "metadata": {},
     "output_type": "display_data"
    }
   ],
   "source": [
    "\n",
    "import ast\n",
    "import matplotlib.pyplot as plt\n",
    "import numpy as np\n",
    "import pickle as pkl\n",
    "import seaborn as sns\n",
    "import glob\n",
    "\n",
    "sns.set()\n",
    "\n",
    "def load_data(path):\n",
    "    with open(path, 'r') as f:\n",
    "        raw_data = f.readlines()\n",
    "    \n",
    "    data = []\n",
    "    for d in raw_data:\n",
    "        dict_ = ast.literal_eval(d)\n",
    "\n",
    "        if 'meta_game' in dict_.keys():\n",
    "            dict_['meta_game'] = pkl.loads(dict_['meta_game'])\n",
    "        if 'meta_strategies' in dict_.keys():\n",
    "            dict_['meta_strategies'] = pkl.loads(dict_['meta_strategies'])\n",
    "\n",
    "        data.append(dict_)\n",
    "    return data\n",
    "\n",
    "def is_done(lines, path):\n",
    "    with open(path, 'r') as f:\n",
    "        return len(f.readlines()) >= lines\n",
    "\n",
    "def get_exploit(path):\n",
    "    data = load_data(path)\n",
    "    exploits = np.zeros(100)\n",
    "\n",
    "    data = list(filter(lambda x: 'exploit' in x.keys(), data))\n",
    "    for (i, d) in enumerate(data):\n",
    "        exploits[i] += float(d['exploit'])\n",
    "\n",
    "    return exploits\n",
    "\n",
    "cutoff = 20\n",
    "prd = 10000\n",
    "N = 200\n",
    "for g in [f'data_temp/baseline_uniform_{N}_{prd}*', \n",
    "        #   f'data_temp/random_sampler_{N}_{prd}*', \n",
    "          f'data_temp/simple_ucb_{N}_{prd}*',\n",
    "          f'data_temp/variance_sampler_{N}_{prd}*']:\n",
    "    files = glob.glob(g)\n",
    "#     print(len(files))\n",
    "    files = list(filter(lambda x: is_done(cutoff + 1, x), files))\n",
    "\n",
    "    total_exp = np.zeros((len(files), cutoff))\n",
    "\n",
    "    for (i, f) in enumerate(files):\n",
    "        total_exp[i] = get_exploit(f)[:cutoff]\n",
    "\n",
    "    mean_vals = np.mean(total_exp, axis=0)\n",
    "    # max_vals = np.percentile(total_exp, 95, axis=0)\n",
    "    # min_vals = np.percentile(total_exp, 5, axis=0)\n",
    "    \n",
    "    plt.yscale(\"log\")\n",
    "    plt.plot(mean_vals)\n",
    "    # plt.fill_between(range(len(min_vals)), min_vals, max_vals, alpha=0.5)\n",
    "\n",
    "plt.legend([\"uniform\", \n",
    "            # \"random\", \n",
    "            \"UCB\", \n",
    "            \"variance\"])\n",
    "plt.show()\n"
   ]
  },
  {
   "cell_type": "code",
   "execution_count": 17,
   "id": "d719777b-c8b6-4ff3-8829-42236456fcbb",
   "metadata": {},
   "outputs": [
    {
     "data": {
      "image/png": "[encoded data removed]",
      "text/plain": [
       "<Figure size 432x288 with 1 Axes>"
      ]
     },
     "metadata": {},
     "output_type": "display_data"
    }
   ],
   "source": [
    "\n",
    "import ast\n",
    "import matplotlib.pyplot as plt\n",
    "import numpy as np\n",
    "import pickle as pkl\n",
    "import seaborn as sns\n",
    "import glob\n",
    "\n",
    "sns.set()\n",
    "\n",
    "def load_data(path):\n",
    "    with open(path, 'r') as f:\n",
    "        raw_data = f.readlines()\n",
    "    \n",
    "    data = []\n",
    "    for d in raw_data:\n",
    "        dict_ = ast.literal_eval(d)\n",
    "\n",
    "        if 'meta_game' in dict_.keys():\n",
    "            dict_['meta_game'] = pkl.loads(dict_['meta_game'])\n",
    "        if 'meta_strategies' in dict_.keys():\n",
    "            dict_['meta_strategies'] = pkl.loads(dict_['meta_strategies'])\n",
    "\n",
    "        data.append(dict_)\n",
    "    return data\n",
    "\n",
    "def is_done(lines, path):\n",
    "    with open(path, 'r') as f:\n",
    "        return len(f.readlines()) >= lines\n",
    "\n",
    "def get_exploit(path):\n",
    "    data = load_data(path)\n",
    "    exploits = np.zeros(100)\n",
    "\n",
    "    data = list(filter(lambda x: 'exploit' in x.keys(), data))\n",
    "    for (i, d) in enumerate(data):\n",
    "        exploits[i] += float(d['exploit'])\n",
    "\n",
    "    return exploits\n",
    "\n",
    "cutoff = 10\n",
    "prd = 10000\n",
    "N = 100\n",
    "for g in [f'data_temp/baseline_uniform_{1}_{prd}*', \n",
    "          f'data_temp/baseline_uniform_{10}_{prd}*', \n",
    "          f'data_temp/baseline_uniform_{100}_{prd}*',\n",
    "        #   f'data_temp/variance_sampler_{N}_{prd}*'\n",
    "          ]:\n",
    "    files = glob.glob(g)\n",
    "#     print(len(files))\n",
    "    files = list(filter(lambda x: is_done(cutoff + 1, x), files))\n",
    "\n",
    "    total_exp = np.zeros((len(files), cutoff))\n",
    "\n",
    "    for (i, f) in enumerate(files):\n",
    "        total_exp[i] = get_exploit(f)[:cutoff]\n",
    "\n",
    "    mean_vals = np.mean(total_exp, axis=0)\n",
    "    max_vals = np.percentile(total_exp, 95, axis=0)\n",
    "    min_vals = np.percentile(total_exp, 5, axis=0)\n",
    "    \n",
    "    plt.yscale(\"log\")\n",
    "    plt.plot(mean_vals)\n",
    "    plt.fill_between(range(len(min_vals)), min_vals, max_vals, alpha=0.5)\n",
    "\n",
    "plt.legend([\"uniform\", \n",
    "            # \"random\", \n",
    "            \"UCB\", \n",
    "            \"variance\"])\n",
    "plt.show()\n"
   ]
  },
  {
   "cell_type": "code",
   "execution_count": null,
   "id": "c3b670c7-096a-4cc6-b6e3-cc426d3e0a31",
   "metadata": {
    "tags": []
   },
   "outputs": [],
   "source": [
    "# parser = argparse.ArgumentParser()\n",
    "# parser.add_argument(\"--prd\", default=10000, type=int, help=\"Number of PRD steps\")\n",
    "# parser.add_argument(\"--N\", default=10, type=int, help=\"Samples Per Interaction\")\n",
    "# parser.add_argument(\"--sampler\", default=\"ucb\", help=\"Name of sampler\")\n",
    "# parser.add_argument(\"--dir\", default=\"data\", help=\"output_directory\")\n",
    "# args = parser.parse_args()\n",
    "\n",
    "# sampler = None\n",
    "# if args.sampler == \"baseline_uniform\":\n",
    "#     sampler = baseline_uniform\n",
    "# elif args.sampler == \"ucb\":\n",
    "#     sampler = ucb\n",
    "# elif args.sampler == \"simple_ucb\":\n",
    "#     sampler = simple_ucb\n",
    "\n",
    "# samplers = [baseline_uniform, ucb, simple_ucb]\n",
    "# for sampler in samplers:\n",
    "#     main(args.prd, args.N, args.dir, sampler)\n",
    "\n",
    "n10_matricies = [generate_data(prd=10000, N=10, data_dir='data', sampler=baseline_uniform, steps=6) for i in range(5)]\n",
    "n100_matricies = [generate_data(prd=10000, N=100, data_dir='data', sampler=baseline_uniform, steps=6) for i in range(5)]\n",
    "n1000_matricies = [generate_data(prd=10000, N=1000, data_dir='data', sampler=baseline_uniform, steps=6) for i in range(5)]"
   ]
  },
  {
   "cell_type": "code",
   "execution_count": null,
   "id": "1bedaf0c-3e7b-4078-a533-ae431dc2d831",
   "metadata": {},
   "outputs": [],
   "source": [
    "np.mean(n10_matricies, axis=0).round(2), np.mean(n100_matricies, axis=0), np.mean(n1000_matricies, axis=0)"
   ]
  },
  {
   "cell_type": "code",
   "execution_count": null,
   "id": "5dac4c9a-74ea-4287-b160-32587a306b28",
   "metadata": {},
   "outputs": [],
   "source": []
  },
  {
   "cell_type": "code",
   "execution_count": null,
   "id": "8919962b-91ac-4111-9b21-90dc8fc96de5",
   "metadata": {},
   "outputs": [],
   "source": [
    "import matplotlib.pyplot as plt\n",
    "fig, ax = plt.subplots(1,3, figsize = (15,30))\n",
    "vmin, vmax = -1, 1\n",
    "ax[0].imshow(np.mean(n10_matricies, axis=0).round(2), cmap = 'coolwarm', vmin = vmin, vmax = vmax)\n",
    "ax[1].imshow(np.mean(n100_matricies, axis=0).round(2), cmap = 'coolwarm', vmin = vmin, vmax = vmax)\n",
    "ax[2].imshow(np.mean(n1000_matricies, axis=0).round(2), cmap = 'coolwarm', vmin = vmin, vmax = vmax)\n",
    "plt.show()"
   ]
  },
  {
   "cell_type": "code",
   "execution_count": null,
   "id": "c4e34b62-50e9-497e-9e70-d28ecd3163bb",
   "metadata": {},
   "outputs": [],
   "source": [
    "np.min(n10_matricies)"
   ]
  },
  {
   "cell_type": "code",
   "execution_count": null,
   "id": "81e06f51-56a0-42b1-8579-3fab4202f852",
   "metadata": {},
   "outputs": [],
   "source": [
    "policies = []\n",
    "for i in range(5):\n",
    "    policies.append((5,j))\n",
    "    policies.append((5,i))\n",
    "policies.append((5,5))"
   ]
  },
  {
   "cell_type": "code",
   "execution_count": null,
   "id": "c6f9de15-8bc7-4a26-bfc7-0da4bec20f92",
   "metadata": {},
   "outputs": [],
   "source": [
    "np.random.choice(len(policies))"
   ]
  },
  {
   "cell_type": "code",
   "execution_count": null,
   "id": "581a6650-8a77-4140-9ade-002a64e5b24f",
   "metadata": {},
   "outputs": [],
   "source": [
    "n10_matricies = generate_data(prd=10000, N=10, data_dir='data', sampler=random_sampler, steps=20)"
   ]
  },
  {
   "cell_type": "code",
   "execution_count": null,
   "id": "723b8b54-f475-4e3f-b8bd-aad10c630f59",
   "metadata": {},
   "outputs": [],
   "source": [
    "random_sampler"
   ]
  },
  {
   "cell_type": "code",
   "execution_count": null,
   "id": "33f9582f-2140-4f6f-9aa3-49a8a526b113",
   "metadata": {},
   "outputs": [],
   "source": []
  },
  {
   "cell_type": "code",
   "execution_count": null,
   "id": "7289b5be-14c2-4000-b281-14079fe73171",
   "metadata": {},
   "outputs": [],
   "source": []
  }
 ],
 "metadata": {
  "kernelspec": {
   "display_name": "Python 3 (ipykernel)",
   "language": "python",
   "name": "python3"
  },
  "language_info": {
   "codemirror_mode": {
    "name": "ipython",
    "version": 3
   },
   "file_extension": ".py",
   "mimetype": "text/x-python",
   "name": "python",
   "nbconvert_exporter": "python",
   "pygments_lexer": "ipython3",
   "version": "3.9.7"
  }
 },
 "nbformat": 4,
 "nbformat_minor": 5
}
